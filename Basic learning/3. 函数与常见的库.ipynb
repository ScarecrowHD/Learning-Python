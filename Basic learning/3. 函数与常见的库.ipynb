{
 "cells": [
  {
   "cell_type": "markdown",
   "metadata": {},
   "source": [
    "# 函数\n",
    "- 函数是一个独立的代码块\n",
    "- 在解决大规模问题时采用“模块化”策略，将一个大而复杂的原始任务分解为多个较简单的子任务，再为每个简单的子任务设计算法\n",
    "- 将描述其算法的一组语句封装为一个独立代码块，为每个独立代码块定义一个名字以及能与其他独立代码块通信的接口，这种独立的代码块定义就是函数。\n",
    "- python中的函数\n",
    "   - 内建函数\n",
    "   - 用户自定义函数\n",
    "   - 标准库函数\n",
    "   - 第三方库\n",
    "- 使用函数可以在整体上简化程序结构，降低程序开发和修改的复杂度，提高程序的可读性。\n"
   ]
  },
  {
   "cell_type": "code",
   "execution_count": null,
   "metadata": {},
   "outputs": [],
   "source": [
    "# - 语法结构：  \n",
    "def 函数名(参数):  \n",
    "    算法代码  \n",
    "    return 返回值  "
   ]
  },
  {
   "cell_type": "code",
   "execution_count": null,
   "metadata": {},
   "outputs": [],
   "source": [
    "# Example 找默尼森数\n",
    "from math import sqrt\n",
    "def prime(n):   ### 先定义一个判断素数的函数\n",
    "    a = int(sqrt(n))\n",
    "    i = 2\n",
    "    lst = []\n",
    "    for i in range(2, a+1):\n",
    "        if n % i == 0:\n",
    "            lst.append(i)\n",
    "        else:\n",
    "            continue\n",
    "    \n",
    "    if len(lst) == 0:\n",
    "        return True\n",
    "    else:\n",
    "        return False\n",
    "\n",
    "l = []\n",
    "for i in range(1,100):\n",
    "    if prime(i) == True:\n",
    "        m = i**2 - 1\n",
    "        if prime(m) == True:\n",
    "            l.append(m)\n",
    "    \n",
    "print(l[0:4])"
   ]
  },
  {
   "cell_type": "markdown",
   "metadata": {},
   "source": [
    "### 函数的参数\n",
    "\n",
    "- 函数调用时将实际参数（实际赋予的值）传给形式参数（定义函数时的关键字参数）\n",
    "- 实参和形参的个数要相同，类型要相容\n",
    "- 参数可以设置默认值\n",
    "- 参数类型\n",
    "   - 位置参数\n",
    "      - 格式化输出中确定输出变量位置的参数：print('{0}{1}{2}'.format(var1,var2,var3))\n",
    "   - 关键字参数\n",
    "      - 关键字参数是让调用者通过使名区。允许改变参数列表中的顺序，调用时每个参数的含义更清晰 。\n",
    "   - 默认参数\n",
    "      - 在定义函数时给某些参数设定默认值，以赋语句的形式给出\n",
    "      - 默认参数值在调用时可以修改\n",
    "      - 通过关键字参数，默认参数也可以改变顺序\n",
    "      - 非默认参数不能放在默认参数之后\n",
    "   - 可变长参数\n",
    "      - Python中允许传递一组数据给一个形参\n",
    "      - 形参tupleArgs前有一 个“*”号，是可变长位置参数的标记，用来收集其余的位置参数，将它们放到一个元组中"
   ]
  },
  {
   "cell_type": "code",
   "execution_count": 38,
   "metadata": {},
   "outputs": [
    {
     "name": "stdout",
     "output_type": "stream",
     "text": [
      "Remington(1089977)'s grade is A+.\n"
     ]
    }
   ],
   "source": [
    "### 关键字参数\n",
    "def printGrade(name, stuID, grade):\n",
    "    print(\"{0}({1})'s grade is {2}.\".format(name, stuID, grade))\n",
    "\n",
    "printGrade(name='Remington', stuID='1089977', grade='A+')"
   ]
  },
  {
   "cell_type": "code",
   "execution_count": null,
   "metadata": {},
   "outputs": [],
   "source": [
    "### 默认参数\n",
    "def printGrade(name, grade, className='courage'):\n",
    "    print print(\"{0}({1})'s grade is {2}.\".format(name,className,grade))\n",
    "\n",
    "print('Mary', 'A')"
   ]
  },
  {
   "cell_type": "code",
   "execution_count": 2,
   "metadata": {},
   "outputs": [
    {
     "name": "stdout",
     "output_type": "stream",
     "text": [
      "Hello\n",
      "Tracy Onalo 486\n",
      "Back off!\n",
      "('Tracy', 'Onalo', '486')\n"
     ]
    }
   ],
   "source": [
    "### 可变长参数\n",
    "def greetings(args1, *tupleArgs):   ### 多个参数可打包为一个元组\n",
    "    print(args1)\n",
    "    print(*tupleArgs)\n",
    "\n",
    "greetings('Hello', 'Tracy','Onalo','486')\n",
    "names = ('Tracy','Onalo','486')\n",
    "greetings('Back off!', names)"
   ]
  },
  {
   "cell_type": "markdown",
   "metadata": {},
   "source": [
    "### lambda函数\n",
    "- lambda函数没有具体的函数名，可以快速简化地使用"
   ]
  },
  {
   "cell_type": "code",
   "execution_count": 3,
   "metadata": {},
   "outputs": [
    {
     "name": "stdout",
     "output_type": "stream",
     "text": [
      "11\n"
     ]
    },
    {
     "data": {
      "text/plain": [
       "8"
      ]
     },
     "execution_count": 3,
     "metadata": {},
     "output_type": "execute_result"
    }
   ],
   "source": [
    "### lambda函数的定义方式\n",
    "def my_add(x,y):\n",
    "    return x+y\n",
    "\n",
    "add = lambda x, y: x+y\n",
    "\n",
    "print(my_add(4,7))\n",
    "add(3,5)\n",
    "\n",
    "    "
   ]
  },
  {
   "cell_type": "code",
   "execution_count": 4,
   "metadata": {},
   "outputs": [
    {
     "data": {
      "text/plain": [
       "[1, -2, -3, -4, 5, -5, -6, 7, 9]"
      ]
     },
     "execution_count": 4,
     "metadata": {},
     "output_type": "execute_result"
    }
   ],
   "source": [
    "### Example1\n",
    "lst = [1,-3,-4,5,-6,7,9,-2,-5]\n",
    "sorted(lst, key=lambda x: abs(x))\n",
    "\n",
    "### Or\n",
    "sorted(lst, key=abs)"
   ]
  },
  {
   "cell_type": "code",
   "execution_count": 5,
   "metadata": {},
   "outputs": [
    {
     "data": {
      "text/plain": [
       "[('Jerry', [87, 85, 91]),\n",
       " ('John', [77, 83, 81]),\n",
       " ('Mary', [76, 83, 88]),\n",
       " ('Tim', [97, 95, 89])]"
      ]
     },
     "execution_count": 5,
     "metadata": {},
     "output_type": "execute_result"
    }
   ],
   "source": [
    "### Example2\n",
    "dScores = {'Jerry' : [87, 85, 91], 'Mary': [76, 83, 88], 'Tim': [97, 95,89], 'John' : [77, 83, 81]} \n",
    "a = sorted(dScores.items(), key = lambda d: d[0])  ###d代表对前面的每一个对象元素进行处理\n",
    "a"
   ]
  },
  {
   "cell_type": "markdown",
   "metadata": {},
   "source": [
    "### 函数式编程\n",
    "- 函数式编程主要由3个基本函数和1个算子构成\n",
    "- 3个基本函数：map(), reduce(), filter()\n",
    "   - map()map()函数接收两个参数，一个是函数，一个是Iterable，map将传入的函数依次作用到序列的每个元素，并把结果作为新的Iterator返回\n",
    "   - reduce()reduce把一个函数作用在一个序列[x1, x2, x3, ...]上，这个函数必须接收两个参数，reduce把结果继续和序列的下一个元素做累积计算。\n",
    "   - filter()用于过滤序列，filter 与map定义的格式相同，参数接受一个函数，一个序列，返回一个Iterator。filter通过判断函数的返回值是否为True来丢弃一些元素。\n",
    "- 其他高阶函数\n",
    "   - sorted() 可以传入自定义的排序函数、反向排序，在复杂的排序中核心代码还是非常的简洁。\n",
    "   - 返回函数return 高阶函数除了可以接受函数作为参数外，还可以把函数作为结果值返回。当我们调用一个函数时，不需要立即得到结果，想在需要的时候再进行计算，那么我们就可以返回一个函数而不是直接一个结果。\n",
    "- 算子(operator)：lambda\n",
    "- reference:https://www.jianshu.com/p/951019a823d2"
   ]
  },
  {
   "cell_type": "code",
   "execution_count": 2,
   "metadata": {},
   "outputs": [
    {
     "data": {
      "text/plain": [
       "[6, 4, 10, 16, 2]"
      ]
     },
     "execution_count": 2,
     "metadata": {},
     "output_type": "execute_result"
    }
   ],
   "source": [
    "### map()相当于映射\n",
    "lst = [3, 2, 5, 8, 1]\n",
    "list(map(lambda x : x*2, lst))   ###映射map()"
   ]
  },
  {
   "cell_type": "code",
   "execution_count": 4,
   "metadata": {},
   "outputs": [
    {
     "data": {
      "text/plain": [
       "[2, 4, 6, 8]"
      ]
     },
     "execution_count": 4,
     "metadata": {},
     "output_type": "execute_result"
    }
   ],
   "source": [
    "### filter()函数可对原数据进行筛选\n",
    "lst = [1,2,3,4,5,6,7,8]\n",
    "list(filter(lambda x: x%2 == 0, lst))"
   ]
  },
  {
   "cell_type": "code",
   "execution_count": 8,
   "metadata": {},
   "outputs": [
    {
     "name": "stdout",
     "output_type": "stream",
     "text": [
      "12345\n"
     ]
    }
   ],
   "source": [
    "### reduce()累计运算\n",
    "from functools import reduce\n",
    "lst = [1,2,3,4,5,6]\n",
    "reduce(lambda x,y: x+y, lst)\n",
    "\n",
    "def fn(x,y):\n",
    "    return x*10+y\n",
    "\n",
    "l1 = [1,2,3,4,5]\n",
    "print(reduce(fn, l1))"
   ]
  },
  {
   "cell_type": "code",
   "execution_count": 9,
   "metadata": {},
   "outputs": [
    {
     "name": "stdout",
     "output_type": "stream",
     "text": [
      "2\n",
      "3\n",
      "5\n",
      "7\n",
      "11\n",
      "13\n",
      "17\n",
      "19\n"
     ]
    }
   ],
   "source": [
    "### Example2 筛选素数\n",
    "def _odd_iter():\n",
    "    n = 1\n",
    "    while True:\n",
    "        n = n + 2\n",
    "        yield n\n",
    "\n",
    "def _not_divisible(n):\n",
    "    return lambda x: x % n > 0\n",
    "\n",
    "def primes():\n",
    "    yield 2   ### 含有yield的函数生成一个迭代器，函数返回某个值时，会停留在某个位置，\n",
    "              ### 返回函数值后，会在前面停留的位置继续执行，直到程序结束\n",
    "    it = _odd_iter() # 初始序列\n",
    "    while True:\n",
    "        n = next(it) # 返回序列的第一个数\n",
    "        yield n\n",
    "        it = filter(_not_divisible(n), it) # 构造新序列\n",
    "\n",
    "# 打印1000以内的素数:\n",
    "for n in primes():\n",
    "    if n < 20:\n",
    "        print(n)\n",
    "    else:\n",
    "        break\n",
    "\n",
    "### yield函数：https://blog.csdn.net/poyue8754/article/details/84680609"
   ]
  },
  {
   "cell_type": "code",
   "execution_count": 10,
   "metadata": {},
   "outputs": [
    {
     "name": "stdout",
     "output_type": "stream",
     "text": [
      "[-5, -2, 1, 3, 9]\n",
      "[9, 3, 1, -2, -5]\n",
      "['Apple', 'Pear', 'banana', 'tomato']\n",
      "['Apple', 'banana', 'Pear', 'tomato']\n",
      "['tomato', 'Pear', 'banana', 'Apple']\n"
     ]
    }
   ],
   "source": [
    "### sorted() 函数\n",
    "\n",
    "L = [3,1,-5,-2,9]\n",
    "#普通的用法\n",
    "print(sorted(L))\n",
    "#反向排序\n",
    "print(sorted(L,reverse=True))\n",
    "K = ['Apple','banana','Pear','tomato']\n",
    "print(sorted(K))\n",
    "#忽略大小写\n",
    "print(sorted(K,key=str.lower))\n",
    "#反向排序\n",
    "print(sorted(K,key=str.lower,reverse=True))"
   ]
  },
  {
   "cell_type": "markdown",
   "metadata": {},
   "source": [
    "## 递归函数\n",
    "- 函数的嵌套使用：在调用函数f1后，函数f1又调用了函数f2，就形成了函数的嵌套调用\n",
    "- 递归是特殊的嵌套调用，是对函数自身的调用\n",
    "- 递归调用的要求\n",
    "   - 有一个比原始调用规模小的函数副本\n",
    "   - 有基本情况即递归终止条件\n",
    "- 递归调用的过程\n",
    "   - 每一次递归调用要解决的问题都要比上一次的调用简单，规模较大的问题可以往下分解为若干个规模较小的问题，规模越来越小最终达到最小规模的递归终止条件（基本条件）\n",
    "   - 解决完基本情况hou函数沿着调用顺序逐级返回上次调用，直到函数的原始调用处结束\n",
    "   - 一般会包含一个选择结构，条件为真时计算基本情况并束递归调用，条件为假时简化问题执行副本继续递归调用\n",
    "- 递归的特点\n",
    "   - 逐层调用\n",
    "   - 遇到边界条件停止\n",
    "   - 逐层返回调用至最初层\n",
    "   - 系统资源消耗比循环大\n",
    "   - 递归函数的每次调用时系统都为局部变量（包括形参）分配本次调用使的存储空间，直到本结束返回调主程序时方才释放。 "
   ]
  },
  {
   "cell_type": "code",
   "execution_count": 2,
   "metadata": {},
   "outputs": [
    {
     "data": {
      "text/plain": [
       "120"
      ]
     },
     "execution_count": 2,
     "metadata": {},
     "output_type": "execute_result"
    }
   ],
   "source": [
    "### Example - 阶乘\n",
    "\n",
    "def fac(n):\n",
    "    if  n == 1:      #判断条件\n",
    "        return 1\n",
    "    else:\n",
    "        return n*fac(n-1)\n",
    "\n",
    "fac(5)    "
   ]
  },
  {
   "cell_type": "code",
   "execution_count": 4,
   "metadata": {},
   "outputs": [
    {
     "name": "stdout",
     "output_type": "stream",
     "text": [
      "1 1 2 3 5 8 13 21 34 55 89 144 233 377 610 987 1597 2584 4181 6765 "
     ]
    }
   ],
   "source": [
    "# 类似斐波那契数列、阶乘、汉诺塔游戏都有明显的迭代方式，可用递归实现\n",
    "# 斐波那契数列\n",
    "\n",
    "def feb(n):\n",
    "    if n <= 1:\n",
    "        return 1\n",
    "    return feb(n-1)+feb(n-2) \n",
    "\n",
    "for i in range(20):\n",
    "    print(feb(i), end=' ')"
   ]
  },
  {
   "cell_type": "code",
   "execution_count": 5,
   "metadata": {},
   "outputs": [
    {
     "name": "stdout",
     "output_type": "stream",
     "text": [
      "elba\n"
     ]
    }
   ],
   "source": [
    "# 字符串倒序\n",
    "def proc(s):\n",
    "    if s == '':\n",
    "        return s\n",
    "    else:\n",
    "        return proc(s[1:]) + s[0]\n",
    "\n",
    "print(proc('able'))"
   ]
  },
  {
   "cell_type": "code",
   "execution_count": 7,
   "metadata": {},
   "outputs": [
    {
     "name": "stdout",
     "output_type": "stream",
     "text": [
      "1000None\n"
     ]
    }
   ],
   "source": [
    "#二进制转换\n",
    "def num(n):\n",
    "    if n >= 2:\n",
    "        num(n//2)\n",
    "    print(n%2, end='')\n",
    "\n",
    "print(num(8))"
   ]
  },
  {
   "cell_type": "code",
   "execution_count": 8,
   "metadata": {},
   "outputs": [
    {
     "data": {
      "text/plain": [
       "3000"
      ]
     },
     "execution_count": 8,
     "metadata": {},
     "output_type": "execute_result"
    }
   ],
   "source": [
    "#设定递归深度，以免无限递归\n",
    "import sys\n",
    "sys.getrecursionlimit()  #查看当前递归深度\n",
    "sys.setrecursionlimit(2000)  #修改递归深度"
   ]
  },
  {
   "cell_type": "markdown",
   "metadata": {},
   "source": [
    "## 常用库及函数\n",
    "- 常用dir()查看库中的所有函数，以及help()查看函数功能！！！\n",
    "- 使用函数前需要将相应的模块导入\n",
    "   - import() 导入库\n",
    "   - import xxx as x  --- 将导入的库重命名\n",
    "   - from x import y --- 从库中导出特定函数\n",
    "- 使用库函数时以 library.function的方式调用"
   ]
  },
  {
   "cell_type": "markdown",
   "metadata": {},
   "source": [
    "### OS 库"
   ]
  },
  {
   "cell_type": "code",
   "execution_count": 2,
   "metadata": {},
   "outputs": [
    {
     "data": {
      "text/plain": [
       "['DirEntry',\n",
       " 'F_OK',\n",
       " 'MutableMapping',\n",
       " 'O_APPEND',\n",
       " 'O_BINARY',\n",
       " 'O_CREAT',\n",
       " 'O_EXCL',\n",
       " 'O_NOINHERIT',\n",
       " 'O_RANDOM',\n",
       " 'O_RDONLY',\n",
       " 'O_RDWR',\n",
       " 'O_SEQUENTIAL',\n",
       " 'O_SHORT_LIVED',\n",
       " 'O_TEMPORARY',\n",
       " 'O_TEXT',\n",
       " 'O_TRUNC',\n",
       " 'O_WRONLY',\n",
       " 'P_DETACH',\n",
       " 'P_NOWAIT',\n",
       " 'P_NOWAITO',\n",
       " 'P_OVERLAY',\n",
       " 'P_WAIT',\n",
       " 'PathLike',\n",
       " 'R_OK',\n",
       " 'SEEK_CUR',\n",
       " 'SEEK_END',\n",
       " 'SEEK_SET',\n",
       " 'TMP_MAX',\n",
       " 'W_OK',\n",
       " 'X_OK',\n",
       " '_Environ',\n",
       " '__all__',\n",
       " '__builtins__',\n",
       " '__cached__',\n",
       " '__doc__',\n",
       " '__file__',\n",
       " '__loader__',\n",
       " '__name__',\n",
       " '__package__',\n",
       " '__spec__',\n",
       " '_execvpe',\n",
       " '_exists',\n",
       " '_exit',\n",
       " '_fspath',\n",
       " '_get_exports_list',\n",
       " '_putenv',\n",
       " '_unsetenv',\n",
       " '_wrap_close',\n",
       " 'abc',\n",
       " 'abort',\n",
       " 'access',\n",
       " 'altsep',\n",
       " 'chdir',\n",
       " 'chmod',\n",
       " 'close',\n",
       " 'closerange',\n",
       " 'cpu_count',\n",
       " 'curdir',\n",
       " 'defpath',\n",
       " 'device_encoding',\n",
       " 'devnull',\n",
       " 'dup',\n",
       " 'dup2',\n",
       " 'environ',\n",
       " 'error',\n",
       " 'execl',\n",
       " 'execle',\n",
       " 'execlp',\n",
       " 'execlpe',\n",
       " 'execv',\n",
       " 'execve',\n",
       " 'execvp',\n",
       " 'execvpe',\n",
       " 'extsep',\n",
       " 'fdopen',\n",
       " 'fsdecode',\n",
       " 'fsencode',\n",
       " 'fspath',\n",
       " 'fstat',\n",
       " 'fsync',\n",
       " 'ftruncate',\n",
       " 'get_exec_path',\n",
       " 'get_handle_inheritable',\n",
       " 'get_inheritable',\n",
       " 'get_terminal_size',\n",
       " 'getcwd',\n",
       " 'getcwdb',\n",
       " 'getenv',\n",
       " 'getlogin',\n",
       " 'getpid',\n",
       " 'getppid',\n",
       " 'isatty',\n",
       " 'kill',\n",
       " 'linesep',\n",
       " 'link',\n",
       " 'listdir',\n",
       " 'lseek',\n",
       " 'lstat',\n",
       " 'makedirs',\n",
       " 'mkdir',\n",
       " 'name',\n",
       " 'open',\n",
       " 'pardir',\n",
       " 'path',\n",
       " 'pathsep',\n",
       " 'pipe',\n",
       " 'popen',\n",
       " 'putenv',\n",
       " 'read',\n",
       " 'readlink',\n",
       " 'remove',\n",
       " 'removedirs',\n",
       " 'rename',\n",
       " 'renames',\n",
       " 'replace',\n",
       " 'rmdir',\n",
       " 'scandir',\n",
       " 'sep',\n",
       " 'set_handle_inheritable',\n",
       " 'set_inheritable',\n",
       " 'spawnl',\n",
       " 'spawnle',\n",
       " 'spawnv',\n",
       " 'spawnve',\n",
       " 'st',\n",
       " 'startfile',\n",
       " 'stat',\n",
       " 'stat_result',\n",
       " 'statvfs_result',\n",
       " 'strerror',\n",
       " 'supports_bytes_environ',\n",
       " 'supports_dir_fd',\n",
       " 'supports_effective_ids',\n",
       " 'supports_fd',\n",
       " 'supports_follow_symlinks',\n",
       " 'symlink',\n",
       " 'sys',\n",
       " 'system',\n",
       " 'terminal_size',\n",
       " 'times',\n",
       " 'times_result',\n",
       " 'truncate',\n",
       " 'umask',\n",
       " 'uname_result',\n",
       " 'unlink',\n",
       " 'urandom',\n",
       " 'utime',\n",
       " 'waitpid',\n",
       " 'walk',\n",
       " 'write']"
      ]
     },
     "execution_count": 2,
     "metadata": {},
     "output_type": "execute_result"
    }
   ],
   "source": [
    "import os\n",
    "dir(os)"
   ]
  },
  {
   "cell_type": "code",
   "execution_count": null,
   "metadata": {},
   "outputs": [],
   "source": [
    "os.getcwd()   ### 获得当前存储路径\n",
    "os.chdir()   ### 改变当前存储路径\n",
    "os.rename('oldname', 'newname')   ### 文件改名\n",
    "os.remove()    ### 删除文件\n",
    "os.mkdir()   ### 创建新的存储路径\n",
    "os.rmdir()   ### 删除存储路径"
   ]
  },
  {
   "cell_type": "markdown",
   "metadata": {},
   "source": [
    "### Random库"
   ]
  },
  {
   "cell_type": "code",
   "execution_count": 7,
   "metadata": {},
   "outputs": [
    {
     "data": {
      "text/plain": [
       "'Java'"
      ]
     },
     "execution_count": 7,
     "metadata": {},
     "output_type": "execute_result"
    }
   ],
   "source": [
    "import random\n",
    "random.choice(['python','C','Java'])     ### 随机抽样"
   ]
  },
  {
   "cell_type": "code",
   "execution_count": 8,
   "metadata": {},
   "outputs": [
    {
     "data": {
      "text/plain": [
       "4"
      ]
     },
     "execution_count": 8,
     "metadata": {},
     "output_type": "execute_result"
    }
   ],
   "source": [
    "random.randint(1,100)     ### 随机生成整数"
   ]
  },
  {
   "cell_type": "code",
   "execution_count": 10,
   "metadata": {},
   "outputs": [
    {
     "data": {
      "text/plain": [
       "33"
      ]
     },
     "execution_count": 10,
     "metadata": {},
     "output_type": "execute_result"
    }
   ],
   "source": [
    "random.randrange(1,100,2)   ### 指定步长随机生成整数"
   ]
  },
  {
   "cell_type": "code",
   "execution_count": 13,
   "metadata": {},
   "outputs": [
    {
     "data": {
      "text/plain": [
       "9.331154413677638"
      ]
     },
     "execution_count": 13,
     "metadata": {},
     "output_type": "execute_result"
    }
   ],
   "source": [
    "random.random()  ### 随机生成浮点数\n",
    "random.uniform(5,10) ### 随机生成指定范围内的浮点数"
   ]
  },
  {
   "cell_type": "code",
   "execution_count": 1,
   "metadata": {},
   "outputs": [
    {
     "data": {
      "text/plain": [
       "[44, 13, 94, 81, 93, 22, 76, 95, 18, 57]"
      ]
     },
     "execution_count": 1,
     "metadata": {},
     "output_type": "execute_result"
    }
   ],
   "source": [
    "### 随机抽样的方法\n",
    "import random\n",
    "random.sample(range(100), 10)   ### 从1-100中随机抽样10个数"
   ]
  },
  {
   "cell_type": "code",
   "execution_count": 4,
   "metadata": {},
   "outputs": [
    {
     "data": {
      "text/plain": [
       "['cici', 'kuku', 'boo', 'lala']"
      ]
     },
     "execution_count": 4,
     "metadata": {},
     "output_type": "execute_result"
    }
   ],
   "source": [
    "sample=['cici','kuku','lala','boo']\n",
    "random.shuffle(sample)     ### 随机排列\n",
    "sample"
   ]
  },
  {
   "cell_type": "code",
   "execution_count": 8,
   "metadata": {},
   "outputs": [
    {
     "name": "stdout",
     "output_type": "stream",
     "text": [
      "Help on method sample in module random:\n",
      "\n",
      "sample(population, k) method of random.Random instance\n",
      "    Chooses k unique random elements from a population sequence or set.\n",
      "    \n",
      "    Returns a new list containing elements from the population while\n",
      "    leaving the original population unchanged.  The resulting list is\n",
      "    in selection order so that all sub-slices will also be valid random\n",
      "    samples.  This allows raffle winners (the sample) to be partitioned\n",
      "    into grand prize and second place winners (the subslices).\n",
      "    \n",
      "    Members of the population need not be hashable or unique.  If the\n",
      "    population contains repeats, then each occurrence is a possible\n",
      "    selection in the sample.\n",
      "    \n",
      "    To choose a sample in a range of integers, use range as an argument.\n",
      "    This is especially fast and space efficient for sampling from a\n",
      "    large population:   sample(range(10000000), 60)\n",
      "\n"
     ]
    }
   ],
   "source": [
    "help(random.sample)"
   ]
  },
  {
   "cell_type": "code",
   "execution_count": 10,
   "metadata": {},
   "outputs": [
    {
     "name": "stdout",
     "output_type": "stream",
     "text": [
      "{'A00221', 'A00124', 'A00103', 'B00120', 'B00107', 'A00123', 'B00134', 'A00117', 'A00204', 'A00245'}\n"
     ]
    }
   ],
   "source": [
    "# Example\n",
    "# 根据给定的班级信息随机生成10个学生的学号\n",
    "# data={\"A001\":32,\"A002\":47,\"B001\":39,\"B002\":42}\n",
    "# 字典的键为班级编号，学生号从01开始，不超过班级人数（字典的值）\n",
    "\n",
    "def number(data):\n",
    "    cls_no = random.choice(list(data.keys()))\n",
    "    stu_no = random.randint(1, data[cls_no])\n",
    "    return \"{}{:02}\".format(cls_no,stu_no)\n",
    "\n",
    "data={\"A001\":32,\"A002\":47,\"B001\":39,\"B002\":42}\n",
    "result=set()     ### 创建一个集合\n",
    "while len(result) < 10:\n",
    "    result.add(number(data))\n",
    "\n",
    "print(result)"
   ]
  },
  {
   "cell_type": "markdown",
   "metadata": {},
   "source": [
    "## datetime 模块"
   ]
  },
  {
   "cell_type": "markdown",
   "metadata": {},
   "source": [
    "- 时间的格式化输出  \n",
    "%a | %A 星期  \n",
    "%b | %B 本地月份  \n",
    "%d | 日期  \n",
    "%y | %Y |年份  \n",
    "%H | %I |小时数  \n",
    "%M | 分  "
   ]
  },
  {
   "cell_type": "code",
   "execution_count": 19,
   "metadata": {},
   "outputs": [
    {
     "name": "stdout",
     "output_type": "stream",
     "text": [
      "Wed,Jan08 20 19:23\n"
     ]
    }
   ],
   "source": [
    "from datetime import date\n",
    "date.today()    ### 以datetime的格式输出当前时间\n",
    "import datetime\n",
    "dt = datetime.datetime.now()\n",
    "print(dt.strftime('%a,%b%d %y %H:%M'))   ### 格式化字符串输出"
   ]
  },
  {
   "cell_type": "code",
   "execution_count": 21,
   "metadata": {},
   "outputs": [
    {
     "data": {
      "text/plain": [
       "datetime.date"
      ]
     },
     "execution_count": 21,
     "metadata": {},
     "output_type": "execute_result"
    }
   ],
   "source": [
    "type(date.today())"
   ]
  },
  {
   "cell_type": "code",
   "execution_count": 35,
   "metadata": {
    "scrolled": true
   },
   "outputs": [
    {
     "name": "stdout",
     "output_type": "stream",
     "text": [
      "2020-01-08 20:20:00\n",
      "2020-01-08 20:20:00\n"
     ]
    }
   ],
   "source": [
    "from datetime import datetime\n",
    "dt = datetime(2020, 1,8,20,20)  ## 数字转换为时间格式\n",
    "print(dt)\n",
    "ts = dt.timestamp()    ## 时间格式转换为时间戳\n",
    "print(datetime.fromtimestamp(ts))   ## 由时间戳转换为时间格式显示"
   ]
  },
  {
   "cell_type": "markdown",
   "metadata": {},
   "source": [
    "## time库"
   ]
  },
  {
   "cell_type": "code",
   "execution_count": null,
   "metadata": {},
   "outputs": [],
   "source": [
    "import time\n",
    "\n",
    "#以时间戳返回当前时间\n",
    "print(time.time())  #浮点型<class 'float'>\n",
    "\n",
    "#以元组方式返回本地当前时间\n",
    "print(time.localtime()) #元组  <class 'time.struct_time'>\n",
    "\n",
    "#以元祖方式返回格林威治时间\n",
    "print(time.gmtime()) #元组  <class 'time.struct_time'>\n",
    "\n",
    "'''时间格式转换'''\n",
    "#将元组时间转为时间戳\n",
    "print(time.mktime(time.gmtime()))\n",
    "print(time.mktime(time.localtime()))\n",
    "\n",
    "#将元组时间转为字符串时间\n",
    "print(time.strftime('%Y-%m-%d %H:%M:%S',time.localtime()))\n",
    "\n",
    "#将字符串格式时间转换为元组格式\n",
    "print(time.strptime('2018-09-21 00:00:00','%Y-%m-%d %H:%M:%S'))\n",
    "\n",
    "#元祖格式时间转换字符串格式时间\n",
    "print(time.asctime(time.localtime()))\n",
    "\n",
    "#时间戳转换成字符串格式时间\n",
    "print(time.ctime(time.time()))\n"
   ]
  },
  {
   "cell_type": "code",
   "execution_count": 37,
   "metadata": {},
   "outputs": [],
   "source": [
    "### time库的应用\n",
    "\n",
    "import time\n",
    "start = time.perf_counter()    ### 返回CPU运行的时间计数值，单位为秒\n",
    "time.sleep(1)    ### 秒为单位，执行这一行时程序运行休眠指定时间"
   ]
  }
 ],
 "metadata": {
  "kernelspec": {
   "display_name": "Python 3",
   "language": "python",
   "name": "python3"
  },
  "language_info": {
   "codemirror_mode": {
    "name": "ipython",
    "version": 3
   },
   "file_extension": ".py",
   "mimetype": "text/x-python",
   "name": "python",
   "nbconvert_exporter": "python",
   "pygments_lexer": "ipython3",
   "version": "3.7.0"
  }
 },
 "nbformat": 4,
 "nbformat_minor": 2
}
