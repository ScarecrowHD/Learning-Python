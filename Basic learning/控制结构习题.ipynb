{
 "cells": [
  {
   "cell_type": "markdown",
   "metadata": {},
   "source": [
    "1. 题目：有1、2、3、4个数字，能组成多少个互不相同且无重复数字的三位数？都是多少？"
   ]
  },
  {
   "cell_type": "code",
   "execution_count": 2,
   "metadata": {},
   "outputs": [
    {
     "name": "stdout",
     "output_type": "stream",
     "text": [
      "1 2 3\n",
      "1 2 4\n",
      "1 3 2\n",
      "1 3 4\n",
      "1 4 2\n",
      "1 4 3\n",
      "2 1 3\n",
      "2 1 4\n",
      "2 3 1\n",
      "2 3 4\n",
      "2 4 1\n",
      "2 4 3\n",
      "3 1 2\n",
      "3 1 4\n",
      "3 2 1\n",
      "3 2 4\n",
      "3 4 1\n",
      "3 4 2\n",
      "4 1 2\n",
      "4 1 3\n",
      "4 2 1\n",
      "4 2 3\n",
      "4 3 1\n",
      "4 3 2\n",
      "24\n"
     ]
    }
   ],
   "source": [
    "count = 0\n",
    "for i in range(1,5):\n",
    "    for j in range(1,5):\n",
    "        for k in range(1,5):\n",
    "            if (i!=j) and (j!=k) and (i!=k):\n",
    "                print(i,j,k)\n",
    "                count += 1\n",
    "print(count)"
   ]
  },
  {
   "cell_type": "markdown",
   "metadata": {},
   "source": [
    "2. 货币兑换，按“num1 0 num2”的格式输入，0代表美元转换为人民币，1代表人民币转换为美元；第一个数字为汇率"
   ]
  },
  {
   "cell_type": "code",
   "execution_count": 4,
   "metadata": {},
   "outputs": [
    {
     "name": "stdout",
     "output_type": "stream",
     "text": [
      "请输入需要兑换的货币：6.9 0 54\n",
      "$54.0 is 372.6yuan\n"
     ]
    }
   ],
   "source": [
    "Cur = input(\"请输入需要兑换的货币：\")\n",
    "clst = Cur.split()\n",
    "er = eval(clst[0])\n",
    "if eval(clst[1]) == 0:\n",
    "    d = eval(clst[-1])\n",
    "    y = d*er\n",
    "    print(\"${0:2.1f} is {1:2.1f}yuan\".format(d, y))\n",
    "elif eval(clst[1]) == 1:\n",
    "    y = eval(clst[-1])\n",
    "    d = y/er\n",
    "    print(\"{0:2.1f}yuan is ${1:2.1f}\".format(y, d))\n",
    "else:\n",
    "    print(\"Incorrect Input\")"
   ]
  },
  {
   "cell_type": "code",
   "execution_count": null,
   "metadata": {},
   "outputs": [],
   "source": []
  },
  {
   "cell_type": "code",
   "execution_count": null,
   "metadata": {},
   "outputs": [],
   "source": []
  },
  {
   "cell_type": "code",
   "execution_count": null,
   "metadata": {},
   "outputs": [],
   "source": []
  },
  {
   "cell_type": "code",
   "execution_count": null,
   "metadata": {},
   "outputs": [],
   "source": []
  }
 ],
 "metadata": {
  "kernelspec": {
   "display_name": "Python 3",
   "language": "python",
   "name": "python3"
  },
  "language_info": {
   "codemirror_mode": {
    "name": "ipython",
    "version": 3
   },
   "file_extension": ".py",
   "mimetype": "text/x-python",
   "name": "python",
   "nbconvert_exporter": "python",
   "pygments_lexer": "ipython3",
   "version": "3.7.0"
  }
 },
 "nbformat": 4,
 "nbformat_minor": 2
}
