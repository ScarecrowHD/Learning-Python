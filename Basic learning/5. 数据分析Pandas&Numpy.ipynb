{
 "cells": [
  {
   "cell_type": "markdown",
   "metadata": {},
   "source": [
    "# Scipy——做数据分析经常用到的\n",
    "官网地址：https://scipy.org/\n",
    "\n",
    "- scipy是基于python的开源软件生态系统\n",
    "- 主要为数学、科学和工程服务\n",
    "\n",
    "- Numpy\n",
    "   - 高性能科学计算和数据分析的基础包\n",
    "   - ndarray对象类似矩阵（不是矩阵，矩阵有专门的numpy.matrix来定义）\n",
    "   - ufunc函数\n",
    "   - 适合线性代数和随机数处理等科学计算\n",
    "- Scipy Library\n",
    "   - 基于Numpy，是科学计算的核心库\n",
    "   - 致力于科学计算中常见问题的各个工具箱，其不同子模块有不同的应用，如插值、积分、优化和图像处理等   \n",
    "- Matplotlib\n",
    "   - 同样基于numpy\n",
    "   - 二维绘图库，可以简单快速地生成曲线图、直方图和散点图等形式的图\n",
    "   - 常用的pyplot是一个简单提供类似matlab接口的模块\n",
    "- Pandas\n",
    "   - 基于 SciPy library和 NumPy\n",
    "   - 高效的Series和DataFrame数据结构\n",
    "   - 强大的可扩展数据操作与分析的Python库\n",
    "   - 高效处理大数据集的切片等功能\n",
    "   - 提供优化库功能读写多种文件格式，如CSV、HDF5\n",
    "\n",
    "- scipy中的数据结构\n",
    "   - ndarray（N维数组）\n",
    "   - Series（变长字典）\n",
    "   - DataFrame（数据框）"
   ]
  },
  {
   "cell_type": "markdown",
   "metadata": {},
   "source": [
    "## Numpy\n",
    "- python中的数组\n",
    "   - 用list和tuple等数据结构表示数组\n",
    "   - ndarray多维数组\n",
    "      - NumPy中基本的数据结构\n",
    "      - 所有元素是同一种类型\n",
    "      - 利于节省内存和CPU计算时间\n",
    "      - 有丰富的函数"
   ]
  },
  {
   "cell_type": "code",
   "execution_count": 6,
   "metadata": {},
   "outputs": [
    {
     "data": {
      "text/plain": [
       "array([1, 3, 4, 5, 6])"
      ]
     },
     "execution_count": 6,
     "metadata": {},
     "output_type": "execute_result"
    }
   ],
   "source": [
    "### 一维数组\n",
    "aLst = [1,2,3,4]\n",
    "\n",
    "### 二维数组\n",
    "bList = [[1,2,3],[4,5,6]]\n",
    "\n",
    "### array\n",
    "import numpy as np\n",
    "np.array([1,3,4,5,6])"
   ]
  },
  {
   "cell_type": "markdown",
   "metadata": {},
   "source": [
    "- N维数组\n",
    "   - 维度（dimensions）称为轴（axes），轴的个数称为秩（rank）\n",
    "   - 沿着第0轴和第一轴操作：\n",
    "      - axis = 0 (按列)\n",
    "      - axis = 1 (按行)\n",
    "   - 基本属性\n",
    "      - ndarray.ndim（秩）\n",
    "      - ndarray.shape（维度）\n",
    "      - ndarray.size（元素总个数）\n",
    "      - ndarray.dtype（元素类型）\n",
    "      - ndarray.itemsize（元素字节大小）"
   ]
  },
  {
   "cell_type": "markdown",
   "metadata": {},
   "source": [
    "#### 如何创建ndarray"
   ]
  },
  {
   "cell_type": "code",
   "execution_count": 1,
   "metadata": {},
   "outputs": [
    {
     "data": {
      "text/plain": [
       "array([1, 2, 3])"
      ]
     },
     "execution_count": 1,
     "metadata": {},
     "output_type": "execute_result"
    }
   ],
   "source": [
    "import numpy as np\n",
    "aArray = np.array([1,2,3])\n",
    "aArray"
   ]
  },
  {
   "cell_type": "code",
   "execution_count": 10,
   "metadata": {},
   "outputs": [
    {
     "data": {
      "text/plain": [
       "array([[1., 2., 3.],\n",
       "       [4., 5., 6.]])"
      ]
     },
     "execution_count": 10,
     "metadata": {},
     "output_type": "execute_result"
    }
   ],
   "source": [
    "bArray = np.array([[1,2,3],[4,5,6]], dtype=float)\n",
    "bArray"
   ]
  },
  {
   "cell_type": "code",
   "execution_count": 11,
   "metadata": {},
   "outputs": [
    {
     "data": {
      "text/plain": [
       "(2, (2, 3), dtype('float64'))"
      ]
     },
     "execution_count": 11,
     "metadata": {},
     "output_type": "execute_result"
    }
   ],
   "source": [
    "bArray.ndim, bArray.shape, bArray.dtype"
   ]
  },
  {
   "cell_type": "code",
   "execution_count": 12,
   "metadata": {},
   "outputs": [
    {
     "data": {
      "text/plain": [
       "array([[0., 0.],\n",
       "       [0., 0.]])"
      ]
     },
     "execution_count": 12,
     "metadata": {},
     "output_type": "execute_result"
    }
   ],
   "source": [
    "### 各种特殊数组\n",
    "np.zeros((2,2))  #2×2元素为0的数组\n"
   ]
  },
  {
   "cell_type": "code",
   "execution_count": 14,
   "metadata": {},
   "outputs": [
    {
     "data": {
      "text/plain": [
       "array([[1., 1., 1.],\n",
       "       [1., 1., 1.]])"
      ]
     },
     "execution_count": 14,
     "metadata": {},
     "output_type": "execute_result"
    }
   ],
   "source": [
    "np.ones((2,3))   #2×3"
   ]
  },
  {
   "cell_type": "code",
   "execution_count": 15,
   "metadata": {},
   "outputs": [
    {
     "data": {
      "text/plain": [
       "array([[3.14159265, 3.14159265, 3.14159265],\n",
       "       [3.14159265, 3.14159265, 3.14159265],\n",
       "       [3.14159265, 3.14159265, 3.14159265]])"
      ]
     },
     "execution_count": 15,
     "metadata": {},
     "output_type": "execute_result"
    }
   ],
   "source": [
    "np.full((3, 3), np.pi)"
   ]
  },
  {
   "cell_type": "code",
   "execution_count": 16,
   "metadata": {},
   "outputs": [
    {
     "data": {
      "text/plain": [
       "array([[1., 1., 1.],\n",
       "       [1., 1., 1.]], dtype=float32)"
      ]
     },
     "execution_count": 16,
     "metadata": {},
     "output_type": "execute_result"
    }
   ],
   "source": [
    "x = np.array([[1, 2, 3], [4, 5, 6]], dtype = np.float32)\n",
    "np.ones_like(x)  #转换为元素为1的数组"
   ]
  },
  {
   "cell_type": "code",
   "execution_count": 17,
   "metadata": {
    "scrolled": true
   },
   "outputs": [
    {
     "data": {
      "text/plain": [
       "array([[1., 0., 0.],\n",
       "       [0., 1., 0.],\n",
       "       [0., 0., 1.]])"
      ]
     },
     "execution_count": 17,
     "metadata": {},
     "output_type": "execute_result"
    }
   ],
   "source": [
    "np.identity(3)  #单位数组/矩阵"
   ]
  },
  {
   "cell_type": "code",
   "execution_count": 23,
   "metadata": {},
   "outputs": [
    {
     "data": {
      "text/plain": [
       "array([[0., 1., 0.],\n",
       "       [0., 0., 1.],\n",
       "       [0., 0., 0.]])"
      ]
     },
     "execution_count": 23,
     "metadata": {},
     "output_type": "execute_result"
    }
   ],
   "source": [
    "np.eye(3, k = 1)  # Index of the diagonal: 0 (the default) refers to the main diagonal,\n",
    "                  # a positive value refers to an upper diagonal, and a negative value\n",
    "                  # to a lower diagonal."
   ]
  },
  {
   "cell_type": "code",
   "execution_count": 24,
   "metadata": {},
   "outputs": [
    {
     "name": "stdout",
     "output_type": "stream",
     "text": [
      "Help on function diag in module numpy.lib.twodim_base:\n",
      "\n",
      "diag(v, k=0)\n",
      "    Extract a diagonal or construct a diagonal array.\n",
      "    \n",
      "    See the more detailed documentation for ``numpy.diagonal`` if you use this\n",
      "    function to extract a diagonal and wish to write to the resulting array;\n",
      "    whether it returns a copy or a view depends on what version of numpy you\n",
      "    are using.\n",
      "    \n",
      "    Parameters\n",
      "    ----------\n",
      "    v : array_like\n",
      "        If `v` is a 2-D array, return a copy of its `k`-th diagonal.\n",
      "        If `v` is a 1-D array, return a 2-D array with `v` on the `k`-th\n",
      "        diagonal.\n",
      "    k : int, optional\n",
      "        Diagonal in question. The default is 0. Use `k>0` for diagonals\n",
      "        above the main diagonal, and `k<0` for diagonals below the main\n",
      "        diagonal.\n",
      "    \n",
      "    Returns\n",
      "    -------\n",
      "    out : ndarray\n",
      "        The extracted diagonal or constructed diagonal array.\n",
      "    \n",
      "    See Also\n",
      "    --------\n",
      "    diagonal : Return specified diagonals.\n",
      "    diagflat : Create a 2-D array with the flattened input as a diagonal.\n",
      "    trace : Sum along diagonals.\n",
      "    triu : Upper triangle of an array.\n",
      "    tril : Lower triangle of an array.\n",
      "    \n",
      "    Examples\n",
      "    --------\n",
      "    >>> x = np.arange(9).reshape((3,3))\n",
      "    >>> x\n",
      "    array([[0, 1, 2],\n",
      "           [3, 4, 5],\n",
      "           [6, 7, 8]])\n",
      "    \n",
      "    >>> np.diag(x)\n",
      "    array([0, 4, 8])\n",
      "    >>> np.diag(x, k=1)\n",
      "    array([1, 5])\n",
      "    >>> np.diag(x, k=-1)\n",
      "    array([3, 7])\n",
      "    \n",
      "    >>> np.diag(np.diag(x))\n",
      "    array([[0, 0, 0],\n",
      "           [0, 4, 0],\n",
      "           [0, 0, 8]])\n",
      "\n"
     ]
    }
   ],
   "source": [
    "help(np.diag)"
   ]
  },
  {
   "cell_type": "code",
   "execution_count": 25,
   "metadata": {},
   "outputs": [
    {
     "data": {
      "text/plain": [
       "array([1. , 1.5, 2. , 2.5, 3. , 3.5, 4. , 4.5])"
      ]
     },
     "execution_count": 25,
     "metadata": {},
     "output_type": "execute_result"
    }
   ],
   "source": [
    "### 生成器创建\n",
    "np.arange(1, 5, 0.5)  #参数含义：起始值-结束值-步长"
   ]
  },
  {
   "cell_type": "code",
   "execution_count": 34,
   "metadata": {},
   "outputs": [
    {
     "data": {
      "text/plain": [
       "array([1. , 1.1, 1.2, 1.3, 1.4, 1.5, 1.6, 1.7, 1.8, 1.9])"
      ]
     },
     "execution_count": 34,
     "metadata": {},
     "output_type": "execute_result"
    }
   ],
   "source": [
    "np.linspace(1,2,10,endpoint = False)   \n",
    "# endpoint选择指定的区间的右端点值可否取到"
   ]
  },
  {
   "cell_type": "code",
   "execution_count": 33,
   "metadata": {},
   "outputs": [
    {
     "name": "stdout",
     "output_type": "stream",
     "text": [
      "Help on function linspace in module numpy.core.function_base:\n",
      "\n",
      "linspace(start, stop, num=50, endpoint=True, retstep=False, dtype=None)\n",
      "    Return evenly spaced numbers over a specified interval.\n",
      "    \n",
      "    Returns `num` evenly spaced samples, calculated over the\n",
      "    interval [`start`, `stop`].\n",
      "    \n",
      "    The endpoint of the interval can optionally be excluded.\n",
      "    \n",
      "    Parameters\n",
      "    ----------\n",
      "    start : scalar\n",
      "        The starting value of the sequence.\n",
      "    stop : scalar\n",
      "        The end value of the sequence, unless `endpoint` is set to False.\n",
      "        In that case, the sequence consists of all but the last of ``num + 1``\n",
      "        evenly spaced samples, so that `stop` is excluded.  Note that the step\n",
      "        size changes when `endpoint` is False.\n",
      "    num : int, optional\n",
      "        Number of samples to generate. Default is 50. Must be non-negative.\n",
      "    endpoint : bool, optional\n",
      "        If True, `stop` is the last sample. Otherwise, it is not included.\n",
      "        Default is True.\n",
      "    retstep : bool, optional\n",
      "        If True, return (`samples`, `step`), where `step` is the spacing\n",
      "        between samples.\n",
      "    dtype : dtype, optional\n",
      "        The type of the output array.  If `dtype` is not given, infer the data\n",
      "        type from the other input arguments.\n",
      "    \n",
      "        .. versionadded:: 1.9.0\n",
      "    \n",
      "    Returns\n",
      "    -------\n",
      "    samples : ndarray\n",
      "        There are `num` equally spaced samples in the closed interval\n",
      "        ``[start, stop]`` or the half-open interval ``[start, stop)``\n",
      "        (depending on whether `endpoint` is True or False).\n",
      "    step : float, optional\n",
      "        Only returned if `retstep` is True\n",
      "    \n",
      "        Size of spacing between samples.\n",
      "    \n",
      "    \n",
      "    See Also\n",
      "    --------\n",
      "    arange : Similar to `linspace`, but uses a step size (instead of the\n",
      "             number of samples).\n",
      "    logspace : Samples uniformly distributed in log space.\n",
      "    \n",
      "    Examples\n",
      "    --------\n",
      "    >>> np.linspace(2.0, 3.0, num=5)\n",
      "    array([ 2.  ,  2.25,  2.5 ,  2.75,  3.  ])\n",
      "    >>> np.linspace(2.0, 3.0, num=5, endpoint=False)\n",
      "    array([ 2. ,  2.2,  2.4,  2.6,  2.8])\n",
      "    >>> np.linspace(2.0, 3.0, num=5, retstep=True)\n",
      "    (array([ 2.  ,  2.25,  2.5 ,  2.75,  3.  ]), 0.25)\n",
      "    \n",
      "    Graphical illustration:\n",
      "    \n",
      "    >>> import matplotlib.pyplot as plt\n",
      "    >>> N = 8\n",
      "    >>> y = np.zeros(N)\n",
      "    >>> x1 = np.linspace(0, 10, N, endpoint=True)\n",
      "    >>> x2 = np.linspace(0, 10, N, endpoint=False)\n",
      "    >>> plt.plot(x1, y, 'o')\n",
      "    [<matplotlib.lines.Line2D object at 0x...>]\n",
      "    >>> plt.plot(x2, y + 0.5, 'o')\n",
      "    [<matplotlib.lines.Line2D object at 0x...>]\n",
      "    >>> plt.ylim([-0.5, 1])\n",
      "    (-0.5, 1)\n",
      "    >>> plt.show()\n",
      "\n"
     ]
    }
   ],
   "source": [
    "help(np.linspace)"
   ]
  },
  {
   "cell_type": "code",
   "execution_count": 37,
   "metadata": {},
   "outputs": [
    {
     "data": {
      "text/plain": [
       "array([[-0.56336627, -0.61448325,  0.81802523],\n",
       "       [ 0.46630176, -0.39501427, -0.0312137 ],\n",
       "       [ 1.52600126,  1.10886144,  0.10431984]])"
      ]
     },
     "execution_count": 37,
     "metadata": {},
     "output_type": "execute_result"
    }
   ],
   "source": [
    "### 随机数组\n",
    "\n",
    "np.random.randn(3,3)   #标准正态分布"
   ]
  },
  {
   "cell_type": "code",
   "execution_count": 39,
   "metadata": {},
   "outputs": [
    {
     "data": {
      "text/plain": [
       "array([[0.00986366, 0.31943979, 0.62847388, 0.5794316 ],\n",
       "       [0.780894  , 0.6214369 , 0.83350299, 0.97382051],\n",
       "       [0.03901241, 0.93404439, 0.55422824, 0.87916022]])"
      ]
     },
     "execution_count": 39,
     "metadata": {},
     "output_type": "execute_result"
    }
   ],
   "source": [
    "np.random.random((3,4))  #随机浮点数"
   ]
  },
  {
   "cell_type": "code",
   "execution_count": 43,
   "metadata": {},
   "outputs": [
    {
     "data": {
      "text/plain": [
       "array([-3.51601322,  2.52702727,  3.64325159,  9.74511613,  7.84183103,\n",
       "        7.38866364,  4.55829174,  7.51133724,  5.49475115,  9.9692057 ,\n",
       "        7.52160454, 11.49660118, 10.06336819,  7.33276772, -7.55077129,\n",
       "        5.08130529,  2.2797553 , 14.65870148,  0.41405662, -3.60821538,\n",
       "        5.55635512,  7.66402628, 11.33021145,  6.4865978 ,  6.55877911,\n",
       "        1.88492981, 10.06244849,  7.41336802,  4.06667991, 11.03781615,\n",
       "       11.88212474,  3.59358349,  6.67134513,  9.09302833, 10.36489002,\n",
       "        6.02483537,  6.17629934,  9.09719087,  8.64589446,  3.62077628,\n",
       "        7.56977507,  2.54557433,  0.94704803,  4.05470126,  6.19682817,\n",
       "        7.05314661,  9.7360808 ,  6.77627134, -4.13331926,  8.59952012,\n",
       "       -7.7410454 ,  7.57244255,  3.47317596,  8.81485505,  2.24911508,\n",
       "        9.51690709, -4.14153874, 15.39973322,  9.23415478,  4.46732843,\n",
       "        1.48110331,  3.99696347,  6.53097717,  4.62772361, 11.90108167,\n",
       "        7.8984473 , 11.89235031,  6.07083556,  7.52119596,  7.34936801,\n",
       "        3.8580789 ,  9.8213573 ,  2.53616655,  3.92546423,  5.38351115,\n",
       "       -0.61409408,  6.96283164,  4.64041487,  8.07838175, -5.82146243,\n",
       "        4.66466828, 13.2555202 , 17.56593264,  2.75984775, -5.68348737,\n",
       "        5.86181062, 10.64163199,  5.77749738,  2.90141114, -1.78801186,\n",
       "       -1.283109  , 10.61428036, 14.17058639,  5.62319637,  7.09325608,\n",
       "        4.59408508, -0.11606622,  4.28842906,  3.58719598, 12.44130771])"
      ]
     },
     "execution_count": 43,
     "metadata": {},
     "output_type": "execute_result"
    }
   ],
   "source": [
    "np.random.normal(5,5,100)  #正态分布N(5,5)的100个样本\n",
    "# normal(loc=0.0, scale=1.0, size=None)\n",
    "# loc : float or array_like of floats\n",
    "        # Mean (\"centre\") of the distribution.\n",
    "# scale : float or array_like of floats\n",
    "        # Standard deviation (spread or \"width\") of the distribution.\n",
    "#size : int or tuple of ints, optional\n",
    "        # Output shape.  If the given shape is, e.g., ``(m, n, k)``, then\n",
    "        # ``m * n * k`` samples are drawn.  If size is ``None`` (default),\n",
    "        # a single value is returned if ``loc`` and ``scale`` are both scalars.\n",
    "        # Otherwise, ``np.broadcast(loc, scale).size`` samples are drawn."
   ]
  },
  {
   "cell_type": "code",
   "execution_count": 48,
   "metadata": {},
   "outputs": [
    {
     "data": {
      "text/plain": [
       "array([[ 1.,  2.,  3.,  4.,  5.,  6.,  7.,  8.,  9.],\n",
       "       [ 2.,  4.,  6.,  8., 10., 12., 14., 16., 18.],\n",
       "       [ 3.,  6.,  9., 12., 15., 18., 21., 24., 27.],\n",
       "       [ 4.,  8., 12., 16., 20., 24., 28., 32., 36.],\n",
       "       [ 5., 10., 15., 20., 25., 30., 35., 40., 45.],\n",
       "       [ 6., 12., 18., 24., 30., 36., 42., 48., 54.],\n",
       "       [ 7., 14., 21., 28., 35., 42., 49., 56., 63.],\n",
       "       [ 8., 16., 24., 32., 40., 48., 56., 64., 72.],\n",
       "       [ 9., 18., 27., 36., 45., 54., 63., 72., 81.]])"
      ]
     },
     "execution_count": 48,
     "metadata": {},
     "output_type": "execute_result"
    }
   ],
   "source": [
    "### 函数创建\n",
    "np.fromfunction(lambda i,j: (i+1)*(j+1), (9,9))"
   ]
  },
  {
   "cell_type": "markdown",
   "metadata": {},
   "source": [
    "#### numpy的操作&运算"
   ]
  },
  {
   "cell_type": "code",
   "execution_count": 56,
   "metadata": {},
   "outputs": [
    {
     "name": "stdout",
     "output_type": "stream",
     "text": [
      "**取第二行\n",
      "[4 5 6]\n",
      "**从第几行取到第几行\n",
      "[[1 2 3]\n",
      " [4 5 6]]\n",
      "**所有行的哪几列元素\n",
      "[[1 3]\n",
      " [4 6]]\n",
      "**第二行的从第几个到第几个\n",
      "[4 5]\n"
     ]
    }
   ],
   "source": [
    "### 切片 --- [行操作，列操作]\n",
    "aArray = np.array([(1, 2, 3), (4, 5, 6)])\n",
    "print('**取第二行')\n",
    "print(aArray[1])\n",
    "print('**从第几行取到第几行')\n",
    "print(aArray[0:2])\n",
    "print('**所有行的哪几列元素')\n",
    "print(aArray[:, [0,2]])\n",
    "print('**第二行的从第几个到第几个')\n",
    "print(aArray[1,0:2])"
   ]
  },
  {
   "cell_type": "code",
   "execution_count": 3,
   "metadata": {},
   "outputs": [
    {
     "data": {
      "text/plain": [
       "array([ 0,  1,  2,  3,  4,  5,  6,  7,  8,  9, 10, 11, 12, 13, 14, 15, 16,\n",
       "       17, 18, 19, 20, 21, 22, 23, 24, 25, 26, 27, 28, 29, 30, 31, 32, 33,\n",
       "       34, 35, 36, 37, 38, 39, 40, 41, 42, 43, 44, 45, 46, 47, 48, 49, 50])"
      ]
     },
     "execution_count": 3,
     "metadata": {},
     "output_type": "execute_result"
    }
   ],
   "source": [
    "### 布尔索引/条件判断\n",
    "\n",
    "aArray = np.arange(0,101)\n",
    "bArray = aArray[aArray <= 50]\n",
    "bArray"
   ]
  },
  {
   "cell_type": "code",
   "execution_count": 5,
   "metadata": {},
   "outputs": [
    {
     "data": {
      "text/plain": [
       "array([ 52,  54,  56,  58,  60,  62,  64,  66,  68,  70,  72,  74,  76,\n",
       "        78,  80,  82,  84,  86,  88,  90,  92,  94,  96,  98, 100])"
      ]
     },
     "execution_count": 5,
     "metadata": {},
     "output_type": "execute_result"
    }
   ],
   "source": [
    "aArray[(aArray % 2 == 0) & (aArray>50)]"
   ]
  },
  {
   "cell_type": "code",
   "execution_count": 7,
   "metadata": {},
   "outputs": [
    {
     "data": {
      "text/plain": [
       "array([-1,  1, -1,  3, -1,  5, -1,  7, -1,  9, -1, 11, -1, 13, -1, 15, -1,\n",
       "       17, -1, 19, -1, 21, -1, 23, -1, 25, -1, 27, -1, 29, -1, 31, -1, 33,\n",
       "       -1, 35, -1, 37, -1, 39, -1, 41, -1, 43, -1, 45, -1, 47, -1, 49, -1,\n",
       "       51, -1, 53, -1, 55, -1, 57, -1, 59, -1, 61, -1, 63, -1, 65, -1, 67,\n",
       "       -1, 69, -1, 71, -1, 73, -1, 75, -1, 77, -1, 79, -1, 81, -1, 83, -1,\n",
       "       85, -1, 87, -1, 89, -1, 91, -1, 93, -1, 95, -1, 97, -1, 99, -1])"
      ]
     },
     "execution_count": 7,
     "metadata": {},
     "output_type": "execute_result"
    }
   ],
   "source": [
    "aArray[(aArray % 2 == 0)] = -1\n",
    "aArray"
   ]
  },
  {
   "cell_type": "code",
   "execution_count": 8,
   "metadata": {},
   "outputs": [
    {
     "data": {
      "text/plain": [
       "array([ 1, -1,  3, -1,  5, -1,  7, -1,  9, -1, 11, -1, 13, -1, 15, -1, 17,\n",
       "       -1, 19, -1, 21, -1, 23, -1, 25, -1, 27, -1, 29, -1, 31, -1, 33, -1,\n",
       "       35, -1, 37, -1, 39, -1, 41, -1, 43, -1, 45, -1, 47, -1, 49, -1, 51,\n",
       "       -1, 53, -1, 55, -1, 57, -1, 59, -1, 61, -1, 63, -1, 65, -1, 67, -1,\n",
       "       69, -1, 71, -1, 73, -1, 75, -1, 77, -1, 79, -1, 81, -1, 83, -1, 85,\n",
       "       -1, 87, -1, 89, -1, 91, -1, 93, -1, 95, -1, 97, -1, 99, -1])"
      ]
     },
     "execution_count": 8,
     "metadata": {},
     "output_type": "execute_result"
    }
   ],
   "source": [
    "aArray = np.arange(1,101)\n",
    "cArray = np.where(aArray % 2 == 0, -1, aArray)  # 按条件替换\n",
    "cArray"
   ]
  },
  {
   "cell_type": "code",
   "execution_count": 12,
   "metadata": {},
   "outputs": [
    {
     "data": {
      "text/plain": [
       "(2, 3)"
      ]
     },
     "execution_count": 12,
     "metadata": {},
     "output_type": "execute_result"
    }
   ],
   "source": [
    "### 改变数组形状\n",
    "aArray = np.array([(1,2,3),(4,5,6)])\n",
    "aArray.shape"
   ]
  },
  {
   "cell_type": "code",
   "execution_count": 13,
   "metadata": {},
   "outputs": [
    {
     "data": {
      "text/plain": [
       "array([[1, 2],\n",
       "       [3, 4],\n",
       "       [5, 6]])"
      ]
     },
     "execution_count": 13,
     "metadata": {},
     "output_type": "execute_result"
    }
   ],
   "source": [
    "bArray = aArray.reshape(3,2)   #改为3行2列，不改变原数组\n",
    "bArray\n",
    "aArray.resize(3,2) #改变原数组"
   ]
  },
  {
   "cell_type": "code",
   "execution_count": 16,
   "metadata": {},
   "outputs": [
    {
     "data": {
      "text/plain": [
       "array([[7, 7, 7],\n",
       "       [7, 7, 7]])"
      ]
     },
     "execution_count": 16,
     "metadata": {},
     "output_type": "execute_result"
    }
   ],
   "source": [
    "### ndarray的运算\n",
    "a = np.array([(5,5,5), (5,5,5)])\n",
    "b = np.array([(2,2,2), (2,2,2)])\n",
    "c = a*b\n",
    "c\n",
    "a += b\n",
    "a"
   ]
  },
  {
   "cell_type": "code",
   "execution_count": 18,
   "metadata": {},
   "outputs": [
    {
     "data": {
      "text/plain": [
       "array([[ 2,  4,  6],\n",
       "       [ 6,  8, 10]])"
      ]
     },
     "execution_count": 18,
     "metadata": {},
     "output_type": "execute_result"
    }
   ],
   "source": [
    "### ndarray的广播功能：较小的数组会广播到较大数组的大小，使它们的形状兼容\n",
    "a = np.array([1,2,3])\n",
    "b = np.array([(1,2,3),(5,6,7)])\n",
    "a + b"
   ]
  },
  {
   "cell_type": "markdown",
   "metadata": {},
   "source": [
    "#### numpy做简单的数据统计"
   ]
  },
  {
   "cell_type": "code",
   "execution_count": 24,
   "metadata": {},
   "outputs": [
    {
     "data": {
      "text/plain": [
       "21"
      ]
     },
     "execution_count": 24,
     "metadata": {},
     "output_type": "execute_result"
    }
   ],
   "source": [
    "a = np.array([[3,2,1], [4,5,6]])\n",
    "a.sum()   #求和"
   ]
  },
  {
   "cell_type": "code",
   "execution_count": 21,
   "metadata": {},
   "outputs": [
    {
     "data": {
      "text/plain": [
       "array([5, 7, 9])"
      ]
     },
     "execution_count": 21,
     "metadata": {},
     "output_type": "execute_result"
    }
   ],
   "source": [
    "a.sum(axis=0)   #两行相加"
   ]
  },
  {
   "cell_type": "code",
   "execution_count": 26,
   "metadata": {},
   "outputs": [
    {
     "data": {
      "text/plain": [
       "1"
      ]
     },
     "execution_count": 26,
     "metadata": {},
     "output_type": "execute_result"
    }
   ],
   "source": [
    "a.min()   #返回最小值"
   ]
  },
  {
   "cell_type": "code",
   "execution_count": 25,
   "metadata": {},
   "outputs": [
    {
     "data": {
      "text/plain": [
       "2"
      ]
     },
     "execution_count": 25,
     "metadata": {},
     "output_type": "execute_result"
    }
   ],
   "source": [
    "a.argmin() #返回最小值的索引"
   ]
  },
  {
   "cell_type": "code",
   "execution_count": 27,
   "metadata": {},
   "outputs": [
    {
     "data": {
      "text/plain": [
       "2.9166666666666665"
      ]
     },
     "execution_count": 27,
     "metadata": {},
     "output_type": "execute_result"
    }
   ],
   "source": [
    "a.var() #方差"
   ]
  },
  {
   "cell_type": "code",
   "execution_count": 28,
   "metadata": {},
   "outputs": [
    {
     "data": {
      "text/plain": [
       "1.707825127659933"
      ]
     },
     "execution_count": 28,
     "metadata": {},
     "output_type": "execute_result"
    }
   ],
   "source": [
    "a.std() #标准差"
   ]
  },
  {
   "cell_type": "code",
   "execution_count": 29,
   "metadata": {},
   "outputs": [
    {
     "data": {
      "text/plain": [
       "array([ 3,  5,  6, 10, 15, 21], dtype=int32)"
      ]
     },
     "execution_count": 29,
     "metadata": {},
     "output_type": "execute_result"
    }
   ],
   "source": [
    "a.cumsum()  #累加"
   ]
  },
  {
   "cell_type": "code",
   "execution_count": 30,
   "metadata": {},
   "outputs": [
    {
     "data": {
      "text/plain": [
       "array([  3,   6,   6,  24, 120, 720], dtype=int32)"
      ]
     },
     "execution_count": 30,
     "metadata": {},
     "output_type": "execute_result"
    }
   ],
   "source": [
    "a.cumprod() #累乘"
   ]
  },
  {
   "cell_type": "markdown",
   "metadata": {},
   "source": [
    "#### ufunc函数\n",
    "- ufunc（universal function）是一种能对数组的每 个元素进行操作的函数。 NumPy内置的许多ufunc函数都是在C语言级别实现的，计算速度非常快,数据量大时有很大的优势\n",
    "- add, all, any, arange, apply_along_axis, argmax, argmin, argsort, average, bincount, ceil, conj, corrcoef, cov, cross ..."
   ]
  },
  {
   "cell_type": "code",
   "execution_count": 31,
   "metadata": {},
   "outputs": [
    {
     "name": "stdout",
     "output_type": "stream",
     "text": [
      "0.015625\n",
      "0.0\n"
     ]
    }
   ],
   "source": [
    "# Example\n",
    "import time\n",
    "import numpy as np\n",
    "import math\n",
    "\n",
    "x = np.arange(0,100,0.01)\n",
    "t1 = time.process_time()\n",
    "for i, t in enumerate(x):\n",
    "    x[i] = math.pow((math.sin(t)), 2)\n",
    "\n",
    "t2 = time.process_time()\n",
    "print(t2-t1)\n",
    "\n",
    "y = np.arange(0,100,0.01)\n",
    "t1 = time.process_time()\n",
    "y = np.power(np.sin(y), 2)\n",
    "t2 = time.process_time()\n",
    "print(t2-t1)"
   ]
  },
  {
   "cell_type": "markdown",
   "metadata": {},
   "source": [
    "#### ndarray在线性代数上的应用"
   ]
  },
  {
   "cell_type": "code",
   "execution_count": null,
   "metadata": {},
   "outputs": [],
   "source": []
  },
  {
   "cell_type": "markdown",
   "metadata": {},
   "source": [
    "### Pandas\n",
    "**github pandas excercises  https://github.com/Aycrazy/pandas_excercises** 强烈推荐\n",
    "\n",
    "- Pandas是基于numpy编写的"
   ]
  },
  {
   "cell_type": "code",
   "execution_count": null,
   "metadata": {},
   "outputs": [],
   "source": []
  }
 ],
 "metadata": {
  "kernelspec": {
   "display_name": "Python 3",
   "language": "python",
   "name": "python3"
  },
  "language_info": {
   "codemirror_mode": {
    "name": "ipython",
    "version": 3
   },
   "file_extension": ".py",
   "mimetype": "text/x-python",
   "name": "python",
   "nbconvert_exporter": "python",
   "pygments_lexer": "ipython3",
   "version": "3.7.0"
  }
 },
 "nbformat": 4,
 "nbformat_minor": 2
}
