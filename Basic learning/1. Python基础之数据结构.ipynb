{
 "cells": [
  {
   "cell_type": "markdown",
   "metadata": {},
   "source": [
    "# Python 基础之数据类型和数据结构"
   ]
  },
  {
   "cell_type": "markdown",
   "metadata": {},
   "source": [
    "## 变量赋值\n",
    "- == 值是否相等；=变量赋值\n",
    "- 直接赋值：a=5；b=4\n",
    "- 多重赋值：变量1, 变量2, …, 变量n = 表达式1, 表达式2, …, 表达式n\n",
    "- 链式赋值：a=b=6\n",
    "- 增量赋值：a = a+5 等价于 a+=5；a = a/2 ---> a /= 2\n",
    "\n",
    "## 变量命名\n",
    "- 不能是固定类或函数名\n",
    "- 首字母不能是特殊符号"
   ]
  },
  {
   "cell_type": "markdown",
   "metadata": {},
   "source": [
    "## 序列"
   ]
  },
  {
   "cell_type": "markdown",
   "metadata": {},
   "source": [
    "- 序列对象的一般操作   \n",
    "   - 切片\n",
    "      - 序列对象一般含有多个组成元素，每个元素对应一个索引，可用于切片操作  \n",
    "      - sequence[index]  \n",
    "      - 顺序为[0,n-1]  \n",
    "      - 倒序为[-n,-1]\n",
    "      - sequence[startindex : endindex:(step)]  起始索引:终止索引：步长（可省略）\n",
    "   - 标准类型运算符\n",
    "      - 值比较：仅能为数值比较\n",
    "      - 对象身份比较，返回布尔值\n",
    "         - is/is not\n",
    "      - 布尔运算\n",
    "         - not/and/or\n",
    "   - 重复运算\n",
    "      - s * t\n",
    "   - 连接\n",
    "      - 同一类型的序列对象进行连接：sequence1 + sequence2\n",
    "      "
   ]
  },
  {
   "cell_type": "code",
   "execution_count": 6,
   "metadata": {},
   "outputs": [
    {
     "name": "stdout",
     "output_type": "stream",
     "text": [
      "appleappleapple\n",
      "applebanana\n"
     ]
    }
   ],
   "source": [
    "a = 'apple'\n",
    "b = 'banana'\n",
    "print(a*3)\n",
    "print(a + b)"
   ]
  },
  {
   "cell_type": "code",
   "execution_count": 7,
   "metadata": {},
   "outputs": [
    {
     "name": "stdout",
     "output_type": "stream",
     "text": [
      "False\n",
      "False\n"
     ]
    }
   ],
   "source": [
    "l1 = [1,2,3,4,5,6]\n",
    "l2 = ['a', 'b', 'c']\n",
    "print(0 in l1)\n",
    "print(l1 is l2)"
   ]
  },
  {
   "cell_type": "markdown",
   "metadata": {},
   "source": [
    "- 序列类型通用函数\n",
    "   - 类型转换内建函数\n",
    "   - 其他常用内建函数\n",
    "      - max()\n",
    "      - min()\n",
    "      - enumerate()   用于将一个可遍历的数据对象(如列表、元组或字符串)组合为一个索引序列，同时列出数据和数据下标\n",
    "      - zip()   用于将可迭代的对象作为参数，将对象中对应的元素打包成一个个元组，然后返回由这些元组组成的列表"
   ]
  },
  {
   "cell_type": "code",
   "execution_count": 13,
   "metadata": {},
   "outputs": [
    {
     "name": "stdout",
     "output_type": "stream",
     "text": [
      "['a', 'b', 'c', 'd', 'e', 'f', 'g']\n",
      "['a', 'b', 'c', 'd', 'e', 'f', 'g']\n",
      "2020holymolly\n"
     ]
    }
   ],
   "source": [
    "a = 'a,b,c,d,e,f,g'\n",
    "b = ['2','0', '2','0','holy', 'molly']\n",
    "print(a.split(','))    ### 字符串拆解为列表，默认分隔符为空字符串\n",
    "a = 'abcdefg'\n",
    "print(list(a))\n",
    "print(''.join(b))   ### 列表内的字符串连接为整个字符串"
   ]
  },
  {
   "cell_type": "code",
   "execution_count": 19,
   "metadata": {},
   "outputs": [
    {
     "name": "stdout",
     "output_type": "stream",
     "text": [
      "7\n",
      "1\n",
      "[(0, 'Spring'), (1, 'Summer'), (2, 'Fall'), (3, 'Winter')]\n",
      "[(1, 'Spring'), (2, 'Summer'), (3, 'Fall'), (4, 'Winter')]\n",
      "[('h', 'w'), ('e', 'o'), ('l', 'r'), ('l', 'l'), ('o', 'd')]\n",
      "[(1, 'a'), (2, 'b'), (3, 'c'), (4, 'd'), (5, 'e')]\n"
     ]
    }
   ],
   "source": [
    "a = [1,2,4,5,6,7]\n",
    "print(max(a))\n",
    "print(min(a))\n",
    "seasons = ['Spring', 'Summer', 'Fall', 'Winter']\n",
    "print(list(enumerate(seasons)))\n",
    "print(list(enumerate(seasons, start = 1)))\n",
    "\n",
    "print(list(zip('hello', 'world')))\n",
    "l1 = [1,2,3,4,5]\n",
    "l2 = ['a','b','c','d','e']\n",
    "print(list(zip(l1,l2)))"
   ]
  },
  {
   "cell_type": "markdown",
   "metadata": {},
   "source": [
    "## 字符串"
   ]
  },
  {
   "cell_type": "markdown",
   "metadata": {},
   "source": [
    "### 字符串的表达"
   ]
  },
  {
   "cell_type": "code",
   "execution_count": 1,
   "metadata": {},
   "outputs": [
    {
     "name": "stdout",
     "output_type": "stream",
     "text": [
      "hello world\n",
      "hello \n",
      " world\n"
     ]
    }
   ],
   "source": [
    "print('hello world')\n",
    "print('hello \\n world')"
   ]
  },
  {
   "cell_type": "code",
   "execution_count": 2,
   "metadata": {},
   "outputs": [
    {
     "name": "stdout",
     "output_type": "stream",
     "text": [
      "The IBM\n"
     ]
    }
   ],
   "source": [
    "astr = 'The Boeing Company'\n",
    "hstr = astr[:4] + 'IBM'\n",
    "print(hstr)"
   ]
  },
  {
   "cell_type": "markdown",
   "metadata": {},
   "source": [
    "\\ooo八进制数ooo代表的字符  \n",
    "\\xXX十六进制数XX代表的字符"
   ]
  },
  {
   "cell_type": "code",
   "execution_count": 3,
   "metadata": {},
   "outputs": [
    {
     "name": "stdout",
     "output_type": "stream",
     "text": [
      "A\tA\n",
      " a\ta\n",
      "\n"
     ]
    }
   ],
   "source": [
    "aStr = '\\101\\t\\x41\\n'\n",
    "bStr = '\\141\\t\\x61\\n'\n",
    "print(aStr, bStr)"
   ]
  },
  {
   "cell_type": "markdown",
   "metadata": {},
   "source": [
    "转义符r  \n",
    "常用转义符 \n",
    "\n",
    "xx|字符|说明\n",
    "--|:--:|--:\n",
    "1|\\t|横向制表符|\n",
    "2|\\n|换行符|\n",
    "3|\\r|回车|\n",
    "4|\\e|转义|\n",
    "5|\\\"|双引号|\n",
    "6|\\'|单引号|\n",
    "7|\\\\\\|反斜杠|\n",
    "8|\\（在行尾时）|续行符|"
   ]
  },
  {
   "cell_type": "markdown",
   "metadata": {},
   "source": [
    "### 格式化输出\n",
    "- 格式化输出形式\n",
    "   - print('格式字符串' % (对象1, 对象2, …, 对象n))\n",
    "   - print('格式化模板'.format(对象1, 对象2, …, 对象n)）\n",
    "   - {参数的位置:[对齐说明符][符号说明符][最小宽度说明符][.精度说明符][类型说明符]}\n",
    "\n",
    "   - b 二进制，以2为基数输出数字  \n",
    "   - o 八进制，以8为基数输出数字  \n",
    "   - x 十六进制，以16为基数输出数字，9以上的数字用小写字母（类型符为X时用大写字母）表示  \n",
    "   - c 字符，将整数转换成对应的Unicode字符输出  \n",
    "   - d 十进制整数，以10为基数输出数字  \n",
    "   - f 定点数，以定点数输出数字  \n",
    "   - e 指数记法，以科学计数法输出数字，用e（类型符是E时用大写E）表示幂  \n",
    "   - [+]m.nf 输出带符号（若格式说明符中显式使用了符号“+”，则输出大于或等于0的数时带“+”号）的数，保留n位小数，整个输出占m列（若实际宽度超过m则突破m的限制）  \n",
    "   - 0>5d 右对齐，>左边的0表示用0填充左边，>右边的数字5表示输出项宽度为5  \n",
    "   - < 左对齐，默认用空格填充右边，<前后类似上述右对齐可以加填充字符和宽度\n",
    "   - ^ 居中对齐  \n",
    "   - {{}} 输出一个{}  "
   ]
  },
  {
   "cell_type": "code",
   "execution_count": 22,
   "metadata": {},
   "outputs": [
    {
     "name": "stdout",
     "output_type": "stream",
     "text": [
      "Xiaoma is taller than Xiaowang.\n",
      "Age:21   , Height: 1.76\n"
     ]
    }
   ],
   "source": [
    "print(\"{0} is taller than {1}.\".format(\"Xiaoma\", \"Xiaowang\"))\n",
    "age, height = 21, 1.758\n",
    "print(\"Age:{0:<5d}, Height:{1:5.2f}\".format(age, height))"
   ]
  },
  {
   "cell_type": "markdown",
   "metadata": {},
   "source": [
    "### 字符串常用方法\n",
    "更多可参考：https://www.runoob.com/python/python-strings.html"
   ]
  },
  {
   "cell_type": "code",
   "execution_count": 23,
   "metadata": {},
   "outputs": [
    {
     "name": "stdout",
     "output_type": "stream",
     "text": [
      "abc&abc\n",
      "ABC&ABC\n"
     ]
    }
   ],
   "source": [
    "a = 'abc&ABC'\n",
    "print(a.lower())    ### 转换为小写\n",
    "print(a.upper())   ### 转换为大写"
   ]
  },
  {
   "cell_type": "code",
   "execution_count": 26,
   "metadata": {},
   "outputs": [
    {
     "name": "stdout",
     "output_type": "stream",
     "text": [
      "0\n",
      "3\n",
      "-1\n",
      "2\n"
     ]
    }
   ],
   "source": [
    "b = a.lower()\n",
    "print(b.find('a'))   ### 判断字符串中是否包含指定字符，返回字符第一次出现的下标，未找到则返回-1\n",
    "print(b.find('&'))\n",
    "print(b.find('1'))\n",
    "print(b.count('a'))   ### 计数指定字符"
   ]
  },
  {
   "cell_type": "code",
   "execution_count": 27,
   "metadata": {},
   "outputs": [
    {
     "data": {
      "text/plain": [
       "1"
      ]
     },
     "execution_count": 27,
     "metadata": {},
     "output_type": "execute_result"
    }
   ],
   "source": [
    "aStr = 'hahahahahah'\n",
    "aStr.index('a')   ### 返回指定字符串第一次出现的下标"
   ]
  },
  {
   "cell_type": "code",
   "execution_count": 28,
   "metadata": {},
   "outputs": [
    {
     "data": {
      "text/plain": [
       "'BA->The Boeing Company->184.76'"
      ]
     },
     "execution_count": 28,
     "metadata": {},
     "output_type": "execute_result"
    }
   ],
   "source": [
    " '->'.join(('BA', 'The Boeing Company', '184.76'))  ### 以指定字符串连接序列中的元素"
   ]
  },
  {
   "cell_type": "code",
   "execution_count": 29,
   "metadata": {},
   "outputs": [
    {
     "data": {
      "text/plain": [
       "['2020', '1', '1']"
      ]
     },
     "execution_count": 29,
     "metadata": {},
     "output_type": "execute_result"
    }
   ],
   "source": [
    "'2020.1.1'.split('.')   ### 以指定字符将字符串拆分为一个列表"
   ]
  },
  {
   "cell_type": "code",
   "execution_count": 35,
   "metadata": {},
   "outputs": [
    {
     "name": "stdout",
     "output_type": "stream",
     "text": [
      "Help on method_descriptor:\n",
      "\n",
      "replace(self, old, new, count=-1, /)\n",
      "    Return a copy with all occurrences of substring old replaced by new.\n",
      "    \n",
      "      count\n",
      "        Maximum number of occurrences to replace.\n",
      "        -1 (the default value) means replace all occurrences.\n",
      "    \n",
      "    If the optional argument count is given, only the first count occurrences are\n",
      "    replaced.\n",
      "\n"
     ]
    }
   ],
   "source": [
    "help(str.replace)    ### 字符串替换"
   ]
  },
  {
   "cell_type": "code",
   "execution_count": 32,
   "metadata": {},
   "outputs": [
    {
     "name": "stdout",
     "output_type": "stream",
     "text": [
      "Not\n",
      "No Pain, No Gain\n"
     ]
    }
   ],
   "source": [
    "# Example\n",
    "aStr = 'What do you think of this saying \"No pain, No gain\"?'\n",
    "tempStr = aStr.split(\"\\\"\")[1]\n",
    "if tempStr.istitle():\n",
    "    print('It is title format')\n",
    "else:\n",
    "    print('Not')\n",
    "print(tempStr.title())"
   ]
  },
  {
   "cell_type": "markdown",
   "metadata": {},
   "source": [
    "## 列表"
   ]
  },
  {
   "cell_type": "markdown",
   "metadata": {},
   "source": [
    "### 创建一个列表"
   ]
  },
  {
   "cell_type": "code",
   "execution_count": 39,
   "metadata": {},
   "outputs": [
    {
     "name": "stdout",
     "output_type": "stream",
     "text": [
      "['h', 'e', 'l', 'l', 'o']\n",
      "[1, 2, 3, 'a', 'b', 4.5]\n",
      "[0, 1, 2, 3, 4, 5, 6, 7, 8, 9]\n"
     ]
    }
   ],
   "source": [
    "a = list('hello')   ### 内建函数转换\n",
    "print(a)\n",
    "b = [1,2,3,'a','b',4.5]   ### 中括号创建列表对象\n",
    "print(b)\n",
    "c = [x for x in range(10)] ### 列表解析\n",
    "print(c)"
   ]
  },
  {
   "cell_type": "markdown",
   "metadata": {},
   "source": [
    "### 列表的操作\n",
    "- 列表作为可变对象，可以增删其中的元素,也可以修改其中的元素值\n",
    "- 列表切片操作\n",
    "- 列表的常用方法\n",
    "   - copy()   ---          浅拷贝\n",
    "   - count()    ---        计数\n",
    "   - index()     ---       列表索引\n",
    "   - insert(index, value) ---  在指定下标处添加新元素\n",
    "   - sort(key=None, reverse=False)---     排序，可指定参数；参数key可为函数"
   ]
  },
  {
   "cell_type": "code",
   "execution_count": 41,
   "metadata": {},
   "outputs": [
    {
     "name": "stdout",
     "output_type": "stream",
     "text": [
      "('BA', 'The Boeing Company', '184.76')\n",
      "The Boeing Company\n"
     ]
    }
   ],
   "source": [
    " pList = [('AXP', 'American Express Company', '78.51'),\n",
    "('BA', 'The Boeing Company', '184.76'),\n",
    "('CAT', 'Caterpillar Inc.', '96.39'),\n",
    "('CSCO', 'Cisco Systems, Inc.', '33.71'),\n",
    "('CVX', 'Chevron Corporation', '106.09')]\n",
    "print(pList[1])\n",
    "print(pList[1][1])"
   ]
  },
  {
   "cell_type": "code",
   "execution_count": 73,
   "metadata": {},
   "outputs": [
    {
     "data": {
      "text/plain": [
       "['H', 'e', 'l', 'l', 'o', 'W', 'o', 'r', 'l', 'd']"
      ]
     },
     "execution_count": 73,
     "metadata": {},
     "output_type": "execute_result"
    }
   ],
   "source": [
    "a = list('helloWorld')\n",
    "a[0] = 'H'\n",
    "a"
   ]
  },
  {
   "cell_type": "markdown",
   "metadata": {},
   "source": [
    "- pop()         ---     删去最后一个或指定下标位置的列表元素，并返回该值"
   ]
  },
  {
   "cell_type": "code",
   "execution_count": 51,
   "metadata": {},
   "outputs": [
    {
     "name": "stdout",
     "output_type": "stream",
     "text": [
      "8\n",
      "6\n"
     ]
    }
   ],
   "source": [
    "l=[1,2,3,5,6,7,8]\n",
    "print(l.pop())\n",
    "print(l.pop(4))"
   ]
  },
  {
   "cell_type": "markdown",
   "metadata": {},
   "source": [
    "- remove()    ---       删去指定元素 "
   ]
  },
  {
   "cell_type": "code",
   "execution_count": 72,
   "metadata": {},
   "outputs": [
    {
     "data": {
      "text/plain": [
       "[7, 8, 8, 8, 9, 9, 10]"
      ]
     },
     "execution_count": 72,
     "metadata": {},
     "output_type": "execute_result"
    }
   ],
   "source": [
    "jScores = [7, 8, 8, 8, 9, 9, 9, 10]\n",
    "jScores.remove(9)\n",
    "jScores"
   ]
  },
  {
   "cell_type": "markdown",
   "metadata": {},
   "source": [
    "- extend()    ---       由一个**可迭代对象**向列表中添加元素\n",
    "- append()    ---向列表中添加新元素"
   ]
  },
  {
   "cell_type": "code",
   "execution_count": 61,
   "metadata": {},
   "outputs": [
    {
     "data": {
      "text/plain": [
       "[1, 2, 3, 4, 5, 'python']"
      ]
     },
     "execution_count": 61,
     "metadata": {},
     "output_type": "execute_result"
    }
   ],
   "source": [
    "aList = [1,2,3,4,5]\n",
    "bList = [2,3,4,5,6]\n",
    "aList.append('python')\n",
    "aList"
   ]
  },
  {
   "cell_type": "code",
   "execution_count": 62,
   "metadata": {},
   "outputs": [
    {
     "data": {
      "text/plain": [
       "[2, 3, 4, 5, 6, 'p', 'y', 't', 'h', 'o', 'n']"
      ]
     },
     "execution_count": 62,
     "metadata": {},
     "output_type": "execute_result"
    }
   ],
   "source": [
    "bList.extend('python')\n",
    "bList"
   ]
  },
  {
   "cell_type": "markdown",
   "metadata": {},
   "source": [
    "- **深拷贝和浅拷贝**\n",
    "   - python默认浅拷贝\n",
    "   - 浅拷贝：当拷贝的对象的值改变时，被拷贝对象的值同样改变\n",
    "   - 深拷贝：copy()方法原对象的值不改变"
   ]
  },
  {
   "cell_type": "code",
   "execution_count": 69,
   "metadata": {},
   "outputs": [
    {
     "name": "stdout",
     "output_type": "stream",
     "text": [
      "[1, 2, 3, [4, 5]]\n",
      "[5, 2, 3, [7, 5]]\n",
      "[1, 2, 3, [7, 5]]\n"
     ]
    }
   ],
   "source": [
    "ls1 = [1,2,3,[4,5]]\n",
    "ls2 = ls1[:]   ### 等同于 ls1.copy()\n",
    "print(ls2)\n",
    "ls2[0], ls2[3][0] = 5, 7\n",
    "print(ls2)\n",
    "print(ls1)"
   ]
  },
  {
   "cell_type": "code",
   "execution_count": 70,
   "metadata": {},
   "outputs": [
    {
     "name": "stdout",
     "output_type": "stream",
     "text": [
      "[5, 2, 3, [7, 5]]\n",
      "[1, 2, 3, [4, 5]]\n"
     ]
    }
   ],
   "source": [
    "import copy\n",
    "ls1 = [1,2,3,[4,5]]\n",
    "ls2 = copy.deepcopy(ls1)\n",
    "ls2[0], ls2[3][0] = 5,7\n",
    "print(ls2)\n",
    "print(ls1)"
   ]
  },
  {
   "cell_type": "markdown",
   "metadata": {},
   "source": [
    "- reverse()方法    ---      倒序\n",
    "   - 在原列表上直接翻转，并得到逆序列表，改变原列表内容。\n",
    "- reversed() 函数\n",
    "   - 序列类型的内建函数\n",
    "   - 返回的是序列逆序排序后的迭代器，原列表内容不变。"
   ]
  },
  {
   "cell_type": "code",
   "execution_count": 76,
   "metadata": {},
   "outputs": [
    {
     "data": {
      "text/plain": [
       "['Sun.', 'Sat.', 'Fri.', 'Thur.', 'Wed.', 'Tues.', 'Mon.']"
      ]
     },
     "execution_count": 76,
     "metadata": {},
     "output_type": "execute_result"
    }
   ],
   "source": [
    "week = ['Mon.', 'Tues.', 'Wed.', 'Thur.', 'Fri.', 'Sat.', 'Sun.']\n",
    "week.reverse()\n",
    "week"
   ]
  },
  {
   "cell_type": "code",
   "execution_count": 80,
   "metadata": {},
   "outputs": [
    {
     "name": "stdout",
     "output_type": "stream",
     "text": [
      "<class 'list_reverseiterator'>\n"
     ]
    }
   ],
   "source": [
    "reversed(week)\n",
    "print(type(reversed(week)))"
   ]
  },
  {
   "cell_type": "markdown",
   "metadata": {},
   "source": [
    "## 元组\n",
    "- 元组是不可变对象，但元组中的可变元素可变\n",
    "- 元组和列表都是有序序列\n",
    "- 元组的用途\n",
    "   - 在映射类型中作为键\n",
    "   - 函数的特殊类型参数\n",
    "      - 函数返回对象个数为0时 ---> None\n",
    "      - 为1时--->object\n",
    "      - 大于1时--->tuple\n",
    "   - 未明确定义的一组对象"
   ]
  },
  {
   "cell_type": "code",
   "execution_count": 81,
   "metadata": {},
   "outputs": [
    {
     "data": {
      "text/plain": [
       "(1, 2, 3)"
      ]
     },
     "execution_count": 81,
     "metadata": {},
     "output_type": "execute_result"
    }
   ],
   "source": [
    "# Example\n",
    "def foo():\n",
    "    return 1,2,3\n",
    "foo()"
   ]
  },
  {
   "cell_type": "code",
   "execution_count": 82,
   "metadata": {},
   "outputs": [
    {
     "ename": "TypeError",
     "evalue": "'tuple' object does not support item assignment",
     "output_type": "error",
     "traceback": [
      "\u001b[1;31m---------------------------------------------------------------------------\u001b[0m",
      "\u001b[1;31mTypeError\u001b[0m                                 Traceback (most recent call last)",
      "\u001b[1;32m<ipython-input-82-0849d90148ac>\u001b[0m in \u001b[0;36m<module>\u001b[1;34m()\u001b[0m\n\u001b[0;32m      1\u001b[0m \u001b[0ma\u001b[0m \u001b[1;33m=\u001b[0m \u001b[1;33m(\u001b[0m\u001b[1;36m1\u001b[0m\u001b[1;33m,\u001b[0m\u001b[1;36m2\u001b[0m\u001b[1;33m,\u001b[0m\u001b[1;36m3\u001b[0m\u001b[1;33m,\u001b[0m\u001b[1;33m[\u001b[0m\u001b[1;36m4\u001b[0m\u001b[1;33m,\u001b[0m\u001b[1;36m5\u001b[0m\u001b[1;33m]\u001b[0m\u001b[1;33m)\u001b[0m\u001b[1;33m\u001b[0m\u001b[0m\n\u001b[1;32m----> 2\u001b[1;33m \u001b[0ma\u001b[0m\u001b[1;33m[\u001b[0m\u001b[1;36m0\u001b[0m\u001b[1;33m]\u001b[0m\u001b[1;33m=\u001b[0m\u001b[1;36m3\u001b[0m\u001b[1;33m\u001b[0m\u001b[0m\n\u001b[0m",
      "\u001b[1;31mTypeError\u001b[0m: 'tuple' object does not support item assignment"
     ]
    }
   ],
   "source": [
    "a = (1,2,3,[4,5])\n",
    "a[0]=3"
   ]
  },
  {
   "cell_type": "code",
   "execution_count": 84,
   "metadata": {},
   "outputs": [
    {
     "data": {
      "text/plain": [
       "(1, 2, 3, [7, 5])"
      ]
     },
     "execution_count": 84,
     "metadata": {},
     "output_type": "execute_result"
    }
   ],
   "source": [
    "a[3][0]=7\n",
    "a"
   ]
  },
  {
   "cell_type": "markdown",
   "metadata": {},
   "source": [
    "## 字典\n",
    "- 字典是无序的序列，和列表、元组不同\n",
    "- 字典是一种映射类型，它包含\n",
    "   - 键（key），唯一值，可以是数字、字符串、元组\n",
    "   - 值（value）\n",
    "   - 构成键值对（key-value）,大括号{}表示"
   ]
  },
  {
   "cell_type": "markdown",
   "metadata": {},
   "source": [
    "### 创建字典"
   ]
  },
  {
   "cell_type": "code",
   "execution_count": 92,
   "metadata": {},
   "outputs": [
    {
     "name": "stdout",
     "output_type": "stream",
     "text": [
      "{'Mayue': 3000, 'Lilin': 4500, 'Wuyun': 8000}\n",
      "{'Mayue': 3000, 'Lilin': 3000, 'Wuyun': 3000}\n"
     ]
    },
    {
     "data": {
      "text/plain": [
       "{'Mayue': 3000, 'Lilin': 4500, 'Wuyun': 8000}"
      ]
     },
     "execution_count": 92,
     "metadata": {},
     "output_type": "execute_result"
    }
   ],
   "source": [
    "### dict()函数创建\n",
    "info = [('Mayue', 3000), ('Lilin', 4500), ('Wuyun', 8000)]\n",
    "bInfo = dict(info)\n",
    "print(bInfo)\n",
    "\n",
    "### 方法fromkeys(seq[, value])创建\n",
    "ginfo = {}.fromkeys(('Mayue','Lilin','Wuyun'), 3000)\n",
    "print(ginfo)\n",
    "\n",
    "### zip()函数创建\n",
    "names=['Mayue','Lilin','Wuyun']\n",
    "salaries = [3000, 4500, 8000]\n",
    "dict(zip(names,salaries))"
   ]
  },
  {
   "cell_type": "markdown",
   "metadata": {},
   "source": [
    "### 字典基本操作"
   ]
  },
  {
   "cell_type": "code",
   "execution_count": 93,
   "metadata": {},
   "outputs": [
    {
     "data": {
      "text/plain": [
       "4500"
      ]
     },
     "execution_count": 93,
     "metadata": {},
     "output_type": "execute_result"
    }
   ],
   "source": [
    "### 键值查找\n",
    "aInfo = {'Mayue': 3000, 'Lilin': 4500, 'Wuyun': 8000}\n",
    "aInfo['Lilin']"
   ]
  },
  {
   "cell_type": "code",
   "execution_count": 95,
   "metadata": {},
   "outputs": [
    {
     "data": {
      "text/plain": [
       "{'Mayue': 3000, 'Wuyun': 8000, 'Liuxi': 9990, 'Qiyu': 8888}"
      ]
     },
     "execution_count": 95,
     "metadata": {},
     "output_type": "execute_result"
    }
   ],
   "source": [
    "### 字典更新：修改、添加、删除\n",
    "# 修改元素\n",
    "aInfo['Lilin'] = 6000\n",
    "# 添加\n",
    "aInfo['Liuxi'] = 9990\n",
    "aInfo['Qiyu'] = 8888\n",
    "# 删除\n",
    "del aInfo['Lilin']\n",
    "\n",
    "aInfo"
   ]
  },
  {
   "cell_type": "markdown",
   "metadata": {},
   "source": [
    "### 字典常用方法"
   ]
  },
  {
   "cell_type": "code",
   "execution_count": 99,
   "metadata": {},
   "outputs": [
    {
     "data": {
      "text/plain": [
       "dict_keys(['Mayue', 'Lilin', 'Wuyun'])"
      ]
     },
     "execution_count": 99,
     "metadata": {},
     "output_type": "execute_result"
    }
   ],
   "source": [
    "aInfo = {'Mayue': 3000, 'Lilin': 4500, 'Wuyun': 8000}\n",
    "aInfo.keys()    ### 查看字典所有键"
   ]
  },
  {
   "cell_type": "code",
   "execution_count": 100,
   "metadata": {},
   "outputs": [
    {
     "data": {
      "text/plain": [
       "dict_values([3000, 4500, 8000])"
      ]
     },
     "execution_count": 100,
     "metadata": {},
     "output_type": "execute_result"
    }
   ],
   "source": [
    "aInfo.values()  ### 查看字典所有值"
   ]
  },
  {
   "cell_type": "code",
   "execution_count": 101,
   "metadata": {},
   "outputs": [
    {
     "data": {
      "text/plain": [
       "dict_items([('Mayue', 3000), ('Lilin', 4500), ('Wuyun', 8000)])"
      ]
     },
     "execution_count": 101,
     "metadata": {},
     "output_type": "execute_result"
    }
   ],
   "source": [
    "aInfo.items()   ### 查看字典所有键值对"
   ]
  },
  {
   "cell_type": "code",
   "execution_count": 102,
   "metadata": {},
   "outputs": [
    {
     "data": {
      "text/plain": [
       "4500"
      ]
     },
     "execution_count": 102,
     "metadata": {},
     "output_type": "execute_result"
    }
   ],
   "source": [
    "### get()方法，按键查找值，值不在字典中则返回默认值：dict.get(key, default=None)\n",
    "aInfo.get('Lilin')"
   ]
  },
  {
   "cell_type": "code",
   "execution_count": 103,
   "metadata": {
    "scrolled": true
   },
   "outputs": [
    {
     "ename": "KeyError",
     "evalue": "'AAA'",
     "output_type": "error",
     "traceback": [
      "\u001b[1;31m---------------------------------------------------------------------------\u001b[0m",
      "\u001b[1;31mKeyError\u001b[0m                                  Traceback (most recent call last)",
      "\u001b[1;32m<ipython-input-103-eb1e7c2b7c3a>\u001b[0m in \u001b[0;36m<module>\u001b[1;34m()\u001b[0m\n\u001b[0;32m      1\u001b[0m \u001b[1;31m### 通过指明键查找值 / 通过get()方法查找值\u001b[0m\u001b[1;33m\u001b[0m\u001b[1;33m\u001b[0m\u001b[0m\n\u001b[0;32m      2\u001b[0m \u001b[0mstock\u001b[0m \u001b[1;33m=\u001b[0m \u001b[1;33m{\u001b[0m\u001b[1;34m'AXP'\u001b[0m\u001b[1;33m:\u001b[0m \u001b[1;36m78.51\u001b[0m\u001b[1;33m,\u001b[0m \u001b[1;34m'BA'\u001b[0m\u001b[1;33m:\u001b[0m \u001b[1;36m184.76\u001b[0m\u001b[1;33m}\u001b[0m\u001b[1;33m\u001b[0m\u001b[0m\n\u001b[1;32m----> 3\u001b[1;33m \u001b[0mstock\u001b[0m\u001b[1;33m[\u001b[0m\u001b[1;34m'AAA'\u001b[0m\u001b[1;33m]\u001b[0m\u001b[1;33m\u001b[0m\u001b[0m\n\u001b[0m",
      "\u001b[1;31mKeyError\u001b[0m: 'AAA'"
     ]
    }
   ],
   "source": [
    "### 通过指明键查找值 / 通过get()方法查找值\n",
    "stock = {'AXP': 78.51, 'BA': 184.76}\n",
    "stock['AAA']"
   ]
  },
  {
   "cell_type": "code",
   "execution_count": 105,
   "metadata": {},
   "outputs": [
    {
     "name": "stdout",
     "output_type": "stream",
     "text": [
      "None\n"
     ]
    }
   ],
   "source": [
    "print(stock.get('AAA'))"
   ]
  },
  {
   "cell_type": "code",
   "execution_count": 109,
   "metadata": {},
   "outputs": [
    {
     "data": {
      "text/plain": [
       "{'AXP': 78.51, 'BA': 184.76, 'AAA': None}"
      ]
     },
     "execution_count": 109,
     "metadata": {},
     "output_type": "execute_result"
    }
   ],
   "source": [
    "### setdefault() 函数和 get()方法 类似, 如果键不存在于字典中，将会添加键并将值设为默认值。(但要记得保存新变量)\n",
    "### dict.setdefault(key, default=None)\n",
    "stock.setdefault('AAA')\n",
    "stock"
   ]
  },
  {
   "cell_type": "code",
   "execution_count": 116,
   "metadata": {},
   "outputs": [
    {
     "data": {
      "text/plain": [
       "{'AXP': 78.51, 'BA': 184.76}"
      ]
     },
     "execution_count": 116,
     "metadata": {},
     "output_type": "execute_result"
    }
   ],
   "source": [
    "stock.setdefault('AXP', None)"
   ]
  },
  {
   "cell_type": "code",
   "execution_count": 120,
   "metadata": {},
   "outputs": [
    {
     "data": {
      "text/plain": [
       "4500"
      ]
     },
     "execution_count": 120,
     "metadata": {},
     "output_type": "execute_result"
    }
   ],
   "source": [
    "### dict.pop()删除指定键值对,并返回值\n",
    "aInfo = {'Mayue': 3000, 'Lilin': 4500,'Wuyun': 8000}\n",
    "aInfo.pop('Lilin')"
   ]
  },
  {
   "cell_type": "code",
   "execution_count": 121,
   "metadata": {},
   "outputs": [
    {
     "data": {
      "text/plain": [
       "{}"
      ]
     },
     "execution_count": 121,
     "metadata": {},
     "output_type": "execute_result"
    }
   ],
   "source": [
    "aInfo.clear()   ### 清空字典\n",
    "aInfo"
   ]
  },
  {
   "cell_type": "code",
   "execution_count": 122,
   "metadata": {},
   "outputs": [
    {
     "data": {
      "text/plain": [
       "{'Mayue': 3000, 'Lilin': 4500, 'Wuyun': 8000}"
      ]
     },
     "execution_count": 122,
     "metadata": {},
     "output_type": "execute_result"
    }
   ],
   "source": [
    "anfo={}\n",
    "bInfo = {'Mayue': 3000, 'Lilin': 4500, 'Wuyun': 8000}\n",
    "aInfo.update(bInfo)\n",
    "aInfo"
   ]
  },
  {
   "cell_type": "markdown",
   "metadata": {},
   "source": [
    "## 集合\n",
    "- 集合是无序不重复的元素的组合\n",
    "   - 可变集合（set）\n",
    "   - 不可变集合（frozenset）\n",
    "   - 多用于元素去重"
   ]
  },
  {
   "cell_type": "code",
   "execution_count": 123,
   "metadata": {},
   "outputs": [
    {
     "name": "stdout",
     "output_type": "stream",
     "text": [
      "['Mayue', 'Lilin', 'Wanqi', 'Mayue', 'Lilin']\n",
      "{'Lilin', 'Mayue', 'Wanqi'}\n"
     ]
    },
    {
     "data": {
      "text/plain": [
       "set"
      ]
     },
     "execution_count": 123,
     "metadata": {},
     "output_type": "execute_result"
    }
   ],
   "source": [
    "names = ['Mayue','Lilin','Wanqi','Mayue','Lilin']\n",
    "print(names)\n",
    "nameset = set(names)   ### 创建集合bushuyu\n",
    "print(nameset)\n",
    "type(nameset)"
   ]
  },
  {
   "cell_type": "markdown",
   "metadata": {},
   "source": [
    "### 集合的基本操作\n",
    "  \n",
    "∈ in  \n",
    "不属于 not in  \n",
    "= ==  \n",
    "≠ !=  \n",
    "⊂ <  \n",
    "⊆ <=  \n",
    "⊃ >  \n",
    "⊇ >=  "
   ]
  },
  {
   "cell_type": "code",
   "execution_count": 124,
   "metadata": {},
   "outputs": [],
   "source": [
    "# 集合的数学运算\n",
    "aSet = set('sunrise')\n",
    "bSet = set('sunset')"
   ]
  },
  {
   "cell_type": "code",
   "execution_count": 125,
   "metadata": {
    "scrolled": true
   },
   "outputs": [
    {
     "data": {
      "text/plain": [
       "True"
      ]
     },
     "execution_count": 125,
     "metadata": {},
     "output_type": "execute_result"
    }
   ],
   "source": [
    "'u' in aSet  ### 属于"
   ]
  },
  {
   "cell_type": "code",
   "execution_count": 128,
   "metadata": {},
   "outputs": [
    {
     "data": {
      "text/plain": [
       "True"
      ]
     },
     "execution_count": 128,
     "metadata": {},
     "output_type": "execute_result"
    }
   ],
   "source": [
    "'a' not in aSet ### 不属于"
   ]
  },
  {
   "cell_type": "code",
   "execution_count": 126,
   "metadata": {},
   "outputs": [
    {
     "data": {
      "text/plain": [
       "False"
      ]
     },
     "execution_count": 126,
     "metadata": {},
     "output_type": "execute_result"
    }
   ],
   "source": [
    "aSet == bSet"
   ]
  },
  {
   "cell_type": "code",
   "execution_count": 129,
   "metadata": {},
   "outputs": [
    {
     "data": {
      "text/plain": [
       "True"
      ]
     },
     "execution_count": 129,
     "metadata": {},
     "output_type": "execute_result"
    }
   ],
   "source": [
    "aSet != bSet"
   ]
  },
  {
   "cell_type": "code",
   "execution_count": 130,
   "metadata": {},
   "outputs": [
    {
     "data": {
      "text/plain": [
       "True"
      ]
     },
     "execution_count": 130,
     "metadata": {},
     "output_type": "execute_result"
    }
   ],
   "source": [
    "set('sun') < aSet  ### 属于"
   ]
  },
  {
   "cell_type": "code",
   "execution_count": 131,
   "metadata": {},
   "outputs": [
    {
     "data": {
      "text/plain": [
       "True"
      ]
     },
     "execution_count": 131,
     "metadata": {},
     "output_type": "execute_result"
    }
   ],
   "source": [
    "set('suns') <= aSet ### 真子集"
   ]
  },
  {
   "cell_type": "code",
   "execution_count": 133,
   "metadata": {},
   "outputs": [
    {
     "data": {
      "text/plain": [
       "{'i', 'r', 't'}"
      ]
     },
     "execution_count": 133,
     "metadata": {},
     "output_type": "execute_result"
    }
   ],
   "source": [
    "### 集合运算\n",
    "aSet = set('sunrise')\n",
    "bSet = set('sunset')\n",
    "\n",
    "# 交运算\n",
    "aSet & bSet\n",
    "# 并运算\n",
    "aSet | bSet\n",
    "# 差集\n",
    "aSet - bSet\n",
    "# 对称差：A△B = (A-B)∪(B-A)\n",
    "aSet ^ bSet\n",
    "# 运算符可复合"
   ]
  },
  {
   "cell_type": "markdown",
   "metadata": {},
   "source": [
    "### 集合常用方法\n",
    "\n",
    "- 面向所有集合  \n",
    "issubset(t)  \n",
    "issuperset(t)  \n",
    "union(t)  \n",
    "intersection(t)  \n",
    "difference(t)  \n",
    "symmetric_difference(t)  \n",
    "copy()  \n",
    "\n",
    "- 面向可变集合  \n",
    "update(t)  \n",
    "intersection_update(t)  \n",
    "difference_update(t)  \n",
    "symmetric_difference_update(t)  \n",
    "add(obj)  \n",
    "remove(obj)  \n",
    "discard(obj)  \n",
    "pop()  \n",
    "clear()  "
   ]
  },
  {
   "cell_type": "code",
   "execution_count": 134,
   "metadata": {},
   "outputs": [
    {
     "data": {
      "text/plain": [
       "{'!', 'e', 'i', 'n', 'r', 's', 'u'}"
      ]
     },
     "execution_count": 134,
     "metadata": {},
     "output_type": "execute_result"
    }
   ],
   "source": [
    "aSet = set('sunrise')\n",
    "aSet.add('!')\n",
    "aSet"
   ]
  },
  {
   "cell_type": "code",
   "execution_count": 135,
   "metadata": {},
   "outputs": [
    {
     "data": {
      "text/plain": [
       "{'e', 'i', 'n', 'r', 's', 'u'}"
      ]
     },
     "execution_count": 135,
     "metadata": {},
     "output_type": "execute_result"
    }
   ],
   "source": [
    "aSet.remove('!')\n",
    "aSet"
   ]
  },
  {
   "cell_type": "code",
   "execution_count": 136,
   "metadata": {},
   "outputs": [
    {
     "data": {
      "text/plain": [
       "{'e', 'i', 'n', 'r', 's', 'u'}"
      ]
     },
     "execution_count": 136,
     "metadata": {},
     "output_type": "execute_result"
    }
   ],
   "source": [
    "aSet.discard('a')\n",
    "aSet"
   ]
  },
  {
   "cell_type": "code",
   "execution_count": 137,
   "metadata": {},
   "outputs": [
    {
     "data": {
      "text/plain": [
       "{'Y', 'a', 'e', 'h', 'i', 'n', 'r', 's', 'u'}"
      ]
     },
     "execution_count": 137,
     "metadata": {},
     "output_type": "execute_result"
    }
   ],
   "source": [
    "aSet.update('Yeah')\n",
    "aSet"
   ]
  },
  {
   "cell_type": "code",
   "execution_count": 138,
   "metadata": {},
   "outputs": [
    {
     "data": {
      "text/plain": [
       "set()"
      ]
     },
     "execution_count": 138,
     "metadata": {},
     "output_type": "execute_result"
    }
   ],
   "source": [
    "aSet.clear()\n",
    "aSet"
   ]
  },
  {
   "cell_type": "markdown",
   "metadata": {},
   "source": [
    "## Range 对象\n",
    "- 用range()函数生成range对象，执行时一边计算一边产生值（类似一个生成器），生成一个不可变的整数序列  \n",
    "range(start, end, step=1)---range的范围是左闭右开区间\n",
    "range(start, end)  \n",
    "range(end)  "
   ]
  },
  {
   "cell_type": "code",
   "execution_count": 88,
   "metadata": {},
   "outputs": [
    {
     "name": "stdout",
     "output_type": "stream",
     "text": [
      "[3, 4, 5, 6, 7, 8, 9, 10]\n",
      "[0, 1, 2, 3, 4, 5, 6, 7, 8, 9]\n",
      "[1, 3, 5, 7]\n"
     ]
    }
   ],
   "source": [
    "print(list(range(3,11)))\n",
    "print(list(range(10)))\n",
    "print(list(range(1,9,2)))"
   ]
  },
  {
   "cell_type": "markdown",
   "metadata": {},
   "source": [
    "## 迭代器和生成器---generator & iterator\n",
    "- 迭代器\n",
    "   - 迭代器是一个可以记住遍历的位置的对象。\n",
    "   - 迭代器对象从集合的第一个元素开始访问，直到所有的元素被访问完结束。迭代器只能往前不会后退。\n",
    "   - 迭代器有两个基本的方法：iter() 和 next()。\n",
    "   - 字符串，列表或元组对象都可用于创建迭代器\n",
    "- 生成器\n",
    "   - 在 Python 中，使用了 yield 的函数被称为生成器（generator）。\n",
    "   - 跟普通函数不同的是，生成器是一个返回迭代器的函数，只能用于迭代操作，更简单点理解生成器就是一个迭代器。\n",
    "   - 在调用生成器运行的过程中，每次遇到 yield 时函数会暂停并保存当前所有的运行信息，返回 yield 的值, 并在下一次执行 next() 方法时从当前位置继续运行。\n",
    "   - 调用一个生成器函数，返回的是一个迭代器对象。\n",
    "   \n",
    "具体实例和如何用代码进行实现可参考：https://www.runoob.com/python3/python3-iterator-generator.html"
   ]
  },
  {
   "cell_type": "code",
   "execution_count": 1,
   "metadata": {},
   "outputs": [
    {
     "name": "stdout",
     "output_type": "stream",
     "text": [
      "1\n",
      "2\n",
      "3\n"
     ]
    }
   ],
   "source": [
    "### 迭代器内部实现原理\n",
    "lst = [1 ,2, 3]\n",
    "x = iter(lst)\n",
    "while True:\n",
    "    try: \n",
    "        i = next(x)\n",
    "        print(i)\n",
    "    except StopIteration:    ###可迭代对象的数据是有限的\n",
    "        break"
   ]
  },
  {
   "cell_type": "code",
   "execution_count": null,
   "metadata": {},
   "outputs": [],
   "source": []
  }
 ],
 "metadata": {
  "kernelspec": {
   "display_name": "Python 3",
   "language": "python",
   "name": "python3"
  },
  "language_info": {
   "codemirror_mode": {
    "name": "ipython",
    "version": 3
   },
   "file_extension": ".py",
   "mimetype": "text/x-python",
   "name": "python",
   "nbconvert_exporter": "python",
   "pygments_lexer": "ipython3",
   "version": "3.7.0"
  }
 },
 "nbformat": 4,
 "nbformat_minor": 2
}
